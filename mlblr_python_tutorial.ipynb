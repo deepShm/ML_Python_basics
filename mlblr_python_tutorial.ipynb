{
  "nbformat": 4,
  "nbformat_minor": 0,
  "metadata": {
    "colab": {
      "name": "mlblr-python-tutorial.ipynb",
      "version": "0.3.2",
      "views": {},
      "default_view": {},
      "provenance": [],
      "collapsed_sections": []
    },
    "kernelspec": {
      "display_name": "Python 3",
      "language": "python",
      "name": "python3"
    }
  },
  "cells": [
    {
      "metadata": {
        "id": "xutDJ2T6pnrC",
        "colab_type": "text"
      },
      "cell_type": "markdown",
      "source": [
        "## Python\n",
        "\n",
        "Python is a high-level, dynamically typed multiparadigm programming language.\n",
        "Python code is often said to be almost like pseudocode, since it allows you\n",
        "to express very powerful ideas in very few lines of code while being very\n",
        "readable. As an example, here is an implementation of the classic quicksort\n",
        "algorithm in Python:"
      ]
    },
    {
      "metadata": {
        "id": "jVJ5fEq0ICYY",
        "colab_type": "code",
        "colab": {
          "autoexec": {
            "startup": false,
            "wait_interval": 0
          },
          "base_uri": "https://localhost:8080/",
          "height": 36
        },
        "outputId": "d42c9b62-61ae-4095-a23a-ef2374597810",
        "executionInfo": {
          "status": "ok",
          "timestamp": 1525362125790,
          "user_tz": -330,
          "elapsed": 1074,
          "user": {
            "displayName": "Shivam Gupta",
            "photoUrl": "//lh5.googleusercontent.com/-aJLlXYQRUVc/AAAAAAAAAAI/AAAAAAAAAZA/LOAJ4R6sYMw/s50-c-k-no/photo.jpg",
            "userId": "111922186520191061713"
          }
        }
      },
      "cell_type": "code",
      "source": [
        "def quicksort(eip):\n",
        "    if len(eip) <= 1:\n",
        "        return eip\n",
        "    eip_dict = eip[len(eip) // 2]\n",
        "    eip_in = [mlblr for mlblr in eip if mlblr < eip_dict]\n",
        "    eip_list = [mlblr for mlblr in eip if mlblr == eip_dict]\n",
        "    mlblr_in = [mlblr for mlblr in eip if mlblr > eip_dict]\n",
        "    return quicksort(eip_in) + eip_list + quicksort(mlblr_in)\n",
        "\n",
        "print(quicksort([3,6,8,10,1,2,1]))\n",
        "# Prints \"[1, 1, 2, 3, 6, 8, 10]\""
      ],
      "execution_count": 1,
      "outputs": [
        {
          "output_type": "stream",
          "text": [
            "[1, 1, 2, 3, 6, 8, 10]\n"
          ],
          "name": "stdout"
        }
      ]
    },
    {
      "metadata": {
        "id": "QVwFWSTSICYw",
        "colab_type": "text"
      },
      "cell_type": "markdown",
      "source": [
        "### Python versions\n",
        "There are currently two different supported versions of Python, 2.7 and 3.5.\n",
        "Somewhat confusingly, Python 3.0 introduced many backwards-incompatible changes\n",
        "to the language, so code written for 2.7 may not work under 3.5 and vice versa.\n",
        "For this class all code will use Python 3.5.\n",
        "\n",
        "You can check your Python version at the command line by running\n",
        "`python --version`.\n",
        "\n",
        "<a name='python-basic'></a>\n",
        "\n",
        "### Basic data types\n",
        "\n",
        "Like most languages, Python has a number of basic types including integers,\n",
        "floats, booleans, and strings. These data types behave in ways that are\n",
        "familiar from other programming languages.\n",
        "\n",
        "**Numbers:** Integers and floats work as you would expect from other languages:"
      ]
    },
    {
      "metadata": {
        "id": "x-kuj__CICY0",
        "colab_type": "code",
        "colab": {
          "autoexec": {
            "startup": false,
            "wait_interval": 0
          },
          "base_uri": "https://localhost:8080/",
          "height": 206
        },
        "outputId": "c78b7720-e4c7-412f-cab3-c7e1ee3a6605",
        "executionInfo": {
          "status": "ok",
          "timestamp": 1525362131564,
          "user_tz": -330,
          "elapsed": 1310,
          "user": {
            "displayName": "Shivam Gupta",
            "photoUrl": "//lh5.googleusercontent.com/-aJLlXYQRUVc/AAAAAAAAAAI/AAAAAAAAAZA/LOAJ4R6sYMw/s50-c-k-no/photo.jpg",
            "userId": "111922186520191061713"
          }
        }
      },
      "cell_type": "code",
      "source": [
        "mlblr = 3\n",
        "print(type(mlblr)) # Prints \"<class 'int'>\"\n",
        "print(mlblr)       # Prints \"3\"\n",
        "print(mlblr + 1)   # Addition; prints \"4\"\n",
        "print(mlblr - 1)   # Subtraction; prints \"2\"\n",
        "print(mlblr * 2)   # Multiplication; prints \"6\"\n",
        "print(mlblr ** 2)  # Exponentiation; prints \"9\"\n",
        "mlblr += 1\n",
        "print(mlblr)  # Prints \"4\"\n",
        "mlblr *= 2\n",
        "print(mlblr)  # Prints \"8\"\n",
        "eip = 2.5\n",
        "print(type(eip)) # Prints \"<class 'float'>\"\n",
        "print(eip,eip + 1, eip * 2, eip ** 2) # Prints \"2.5 3.5 5.0 6.25\""
      ],
      "execution_count": 2,
      "outputs": [
        {
          "output_type": "stream",
          "text": [
            "<class 'int'>\n",
            "3\n",
            "4\n",
            "2\n",
            "6\n",
            "9\n",
            "4\n",
            "8\n",
            "<class 'float'>\n",
            "2.5 3.5 5.0 6.25\n"
          ],
          "name": "stdout"
        }
      ]
    },
    {
      "metadata": {
        "id": "heE_TXwjICZC",
        "colab_type": "text"
      },
      "cell_type": "markdown",
      "source": [
        "Note that unlike many languages, Python does not have unary increment (`x++`)\n",
        "or decrement (`x--`) operators.\n",
        "\n",
        "Python also has built-in types for complex numbers;\n",
        "you can find all of the details\n",
        "[in the documentation](https://docs.python.org/3.5/library/stdtypes.html#numeric-types-int-float-complex).\n",
        "\n",
        "**Booleans:** Python implements all of the usual operators for Boolean logic,\n",
        "but uses English words rather than symbols (`&&`, `||`, etc.):"
      ]
    },
    {
      "metadata": {
        "id": "UtQdzcBlICZM",
        "colab_type": "code",
        "colab": {
          "autoexec": {
            "startup": false,
            "wait_interval": 0
          },
          "base_uri": "https://localhost:8080/",
          "height": 111
        },
        "outputId": "7f3ab9c4-69ec-4b32-b46a-c051ed2f25ea",
        "executionInfo": {
          "status": "ok",
          "timestamp": 1525362137936,
          "user_tz": -330,
          "elapsed": 980,
          "user": {
            "displayName": "Shivam Gupta",
            "photoUrl": "//lh5.googleusercontent.com/-aJLlXYQRUVc/AAAAAAAAAAI/AAAAAAAAAZA/LOAJ4R6sYMw/s50-c-k-no/photo.jpg",
            "userId": "111922186520191061713"
          }
        }
      },
      "cell_type": "code",
      "source": [
        "eip = True\n",
        "mlblr = False\n",
        "print(type(eip)) # Prints \"<class 'bool'>\"\n",
        "print(eip and mlblr) # Logical AND; prints \"False\"\n",
        "print(eip or mlblr)  # Logical OR; prints \"True\"\n",
        "print(not eip)   # Logical NOT; prints \"False\"\n",
        "print(eip != mlblr)  # Logical XOR; prints \"True\""
      ],
      "execution_count": 3,
      "outputs": [
        {
          "output_type": "stream",
          "text": [
            "<class 'bool'>\n",
            "False\n",
            "True\n",
            "False\n",
            "True\n"
          ],
          "name": "stdout"
        }
      ]
    },
    {
      "metadata": {
        "id": "gRtE16scICZY",
        "colab_type": "text"
      },
      "cell_type": "markdown",
      "source": [
        "**Strings:** Python has great support for strings:"
      ]
    },
    {
      "metadata": {
        "id": "neutdLagICZc",
        "colab_type": "code",
        "colab": {
          "autoexec": {
            "startup": false,
            "wait_interval": 0
          },
          "base_uri": "https://localhost:8080/",
          "height": 92
        },
        "outputId": "ccdb470b-d740-4706-aae8-927a06313515",
        "executionInfo": {
          "status": "ok",
          "timestamp": 1525362143000,
          "user_tz": -330,
          "elapsed": 1030,
          "user": {
            "displayName": "Shivam Gupta",
            "photoUrl": "//lh5.googleusercontent.com/-aJLlXYQRUVc/AAAAAAAAAAI/AAAAAAAAAZA/LOAJ4R6sYMw/s50-c-k-no/photo.jpg",
            "userId": "111922186520191061713"
          }
        }
      },
      "cell_type": "code",
      "source": [
        "eip = 'hello'    # String literals can use single quotes\n",
        "mlblr = \"world\"    # or double quotes; it does not matter.\n",
        "print(eip)       # Prints \"hello\"\n",
        "print(len(eip))  # String length; prints \"5\"\n",
        "eip_in = eip + ' ' + mlblr  # String concatenation\n",
        "print(eip_in)  # prints \"hello world\"\n",
        "eip_out = '%s %s %d' % (eip, mlblr, 12)  # sprintf style string formatting\n",
        "print(eip_out)  # prints \"hello world 12\""
      ],
      "execution_count": 4,
      "outputs": [
        {
          "output_type": "stream",
          "text": [
            "hello\n",
            "5\n",
            "hello world\n",
            "hello world 12\n"
          ],
          "name": "stdout"
        }
      ]
    },
    {
      "metadata": {
        "id": "PBJKbIyDICZo",
        "colab_type": "text"
      },
      "cell_type": "markdown",
      "source": [
        "String objects have a bunch of useful methods; for example:"
      ]
    },
    {
      "metadata": {
        "id": "AgVJBQnuICZw",
        "colab_type": "code",
        "colab": {
          "autoexec": {
            "startup": false,
            "wait_interval": 0
          },
          "base_uri": "https://localhost:8080/",
          "height": 130
        },
        "outputId": "0223b1bf-660a-4760-bb89-6305d262f7ac",
        "executionInfo": {
          "status": "ok",
          "timestamp": 1525362149076,
          "user_tz": -330,
          "elapsed": 1100,
          "user": {
            "displayName": "Shivam Gupta",
            "photoUrl": "//lh5.googleusercontent.com/-aJLlXYQRUVc/AAAAAAAAAAI/AAAAAAAAAZA/LOAJ4R6sYMw/s50-c-k-no/photo.jpg",
            "userId": "111922186520191061713"
          }
        }
      },
      "cell_type": "code",
      "source": [
        "eip = \"hello\"\n",
        "print(eip.capitalize())  # Capitalize a string; prints \"Hello\"\n",
        "print(eip.upper())       # Convert a string to uppercase; prints \"HELLO\"\n",
        "print(eip.rjust(7))      # Right-justify a string, padding with spaces; prints \"  hello\"\n",
        "print(eip.center(7))     # Center a string, padding with spaces; prints \" hello \"\n",
        "print(eip.replace('l', '(ell)'))  # Replace all instances of one substring with another;\n",
        "                                # prints \"he(ell)(ell)o\"\n",
        "print('  world '.strip())  # Strip leading and trailing whitespace; prints \"world\""
      ],
      "execution_count": 5,
      "outputs": [
        {
          "output_type": "stream",
          "text": [
            "Hello\n",
            "HELLO\n",
            "  hello\n",
            " hello \n",
            "he(ell)(ell)o\n",
            "world\n"
          ],
          "name": "stdout"
        }
      ]
    },
    {
      "metadata": {
        "id": "lC7Un-9VICaE",
        "colab_type": "text"
      },
      "cell_type": "markdown",
      "source": [
        "You can find a list of all string methods [in the documentation](https://docs.python.org/3.5/library/stdtypes.html#string-methods).\n",
        "\n",
        "<a name='python-containers'></a>\n",
        "\n",
        "### Containers\n",
        "Python includes several built-in container types: lists, dictionaries, sets, and tuples.\n",
        "\n",
        "<a name='python-lists'></a>\n",
        "\n",
        "#### Lists\n",
        "A list is the Python equivalent of an array, but is resizeable\n",
        "and can contain elements of different types:"
      ]
    },
    {
      "metadata": {
        "id": "erzeDkxJICaI",
        "colab_type": "code",
        "colab": {
          "autoexec": {
            "startup": false,
            "wait_interval": 0
          },
          "base_uri": "https://localhost:8080/",
          "height": 111
        },
        "outputId": "f8b02c7d-536f-456d-e61e-c9e5449d92b3",
        "executionInfo": {
          "status": "ok",
          "timestamp": 1525362153348,
          "user_tz": -330,
          "elapsed": 1208,
          "user": {
            "displayName": "Shivam Gupta",
            "photoUrl": "//lh5.googleusercontent.com/-aJLlXYQRUVc/AAAAAAAAAAI/AAAAAAAAAZA/LOAJ4R6sYMw/s50-c-k-no/photo.jpg",
            "userId": "111922186520191061713"
          }
        }
      },
      "cell_type": "code",
      "source": [
        "mlblr = [3, 1, 2]    # Create a list\n",
        "print(mlblr, mlblr[2])  # Prints \"[3, 1, 2] 2\"\n",
        "print(mlblr[-1])     # Negative indices count from the end of the list; prints \"2\"\n",
        "mlblr[2] = 'foo'     # Lists can contain elements of different types\n",
        "print(mlblr)         # Prints \"[3, 1, 'foo']\"\n",
        "mlblr.append('bar')  # Add a new element to the end of the list\n",
        "print(mlblr)         # Prints \"[3, 1, 'foo', 'bar']\"\n",
        "eip = mlblr.pop()      # Remove and return the last element of the list\n",
        "print(eip, mlblr)      # Prints \"bar [3, 1, 'foo']\""
      ],
      "execution_count": 6,
      "outputs": [
        {
          "output_type": "stream",
          "text": [
            "[3, 1, 2] 2\n",
            "2\n",
            "[3, 1, 'foo']\n",
            "[3, 1, 'foo', 'bar']\n",
            "bar [3, 1, 'foo']\n"
          ],
          "name": "stdout"
        }
      ]
    },
    {
      "metadata": {
        "id": "mFp7Z7-cICac",
        "colab_type": "text"
      },
      "cell_type": "markdown",
      "source": [
        "As usual, you can find all the gory details about lists\n",
        "[in the documentation](https://docs.python.org/3.5/tutorial/datastructures.html#more-on-lists).\n",
        "\n",
        "**Slicing:**\n",
        "In addition to accessing list elements one at a time, Python provides\n",
        "concise syntax to access sublists; this is known as *slicing*:"
      ]
    },
    {
      "metadata": {
        "id": "dSSblGKCICae",
        "colab_type": "code",
        "colab": {
          "autoexec": {
            "startup": false,
            "wait_interval": 0
          },
          "base_uri": "https://localhost:8080/",
          "height": 149
        },
        "outputId": "92c91679-c4a0-4d28-eb37-6102c7dae469",
        "executionInfo": {
          "status": "ok",
          "timestamp": 1525362158750,
          "user_tz": -330,
          "elapsed": 1234,
          "user": {
            "displayName": "Shivam Gupta",
            "photoUrl": "//lh5.googleusercontent.com/-aJLlXYQRUVc/AAAAAAAAAAI/AAAAAAAAAZA/LOAJ4R6sYMw/s50-c-k-no/photo.jpg",
            "userId": "111922186520191061713"
          }
        }
      },
      "cell_type": "code",
      "source": [
        "eip = list(range(5))     # range is a built-in function that creates a list of integers\n",
        "print(eip)               # Prints \"[0, 1, 2, 3, 4]\"\n",
        "print(eip[2:4])          # Get a slice from index 2 to 4 (exclusive); prints \"[2, 3]\"\n",
        "print(eip[2:])           # Get a slice from index 2 to the end; prints \"[2, 3, 4]\"\n",
        "print(eip[:2])           # Get a slice from the start to index 2 (exclusive); prints \"[0, 1]\"\n",
        "print(eip[:])            # Get a slice of the whole list; prints \"[0, 1, 2, 3, 4]\"\n",
        "print(eip[:-1])          # Slice indices can be negative; prints \"[0, 1, 2, 3]\"\n",
        "eip[2:4] = [8, 9]        # Assign a new sublist to a slice\n",
        "print(eip)               # Prints \"[0, 1, 8, 9, 4]\""
      ],
      "execution_count": 7,
      "outputs": [
        {
          "output_type": "stream",
          "text": [
            "[0, 1, 2, 3, 4]\n",
            "[2, 3]\n",
            "[2, 3, 4]\n",
            "[0, 1]\n",
            "[0, 1, 2, 3, 4]\n",
            "[0, 1, 2, 3]\n",
            "[0, 1, 8, 9, 4]\n"
          ],
          "name": "stdout"
        }
      ]
    },
    {
      "metadata": {
        "id": "llzWYXmAICa4",
        "colab_type": "text"
      },
      "cell_type": "markdown",
      "source": [
        "We will see slicing again in the context of numpy arrays.\n",
        "\n",
        "**Loops:** You can loop over the elements of a list like this:"
      ]
    },
    {
      "metadata": {
        "id": "oJuAfyOoICa-",
        "colab_type": "code",
        "colab": {
          "autoexec": {
            "startup": false,
            "wait_interval": 0
          },
          "base_uri": "https://localhost:8080/",
          "height": 74
        },
        "outputId": "e33785d6-4f5c-4169-fd84-6d348e7dad46",
        "executionInfo": {
          "status": "ok",
          "timestamp": 1525362162010,
          "user_tz": -330,
          "elapsed": 964,
          "user": {
            "displayName": "Shivam Gupta",
            "photoUrl": "//lh5.googleusercontent.com/-aJLlXYQRUVc/AAAAAAAAAAI/AAAAAAAAAZA/LOAJ4R6sYMw/s50-c-k-no/photo.jpg",
            "userId": "111922186520191061713"
          }
        }
      },
      "cell_type": "code",
      "source": [
        "eip_list = ['cat', 'dog', 'monkey']\n",
        "for eip in eip_list:\n",
        "    print(eip)\n",
        "# Prints \"cat\", \"dog\", \"monkey\", each on its own line."
      ],
      "execution_count": 8,
      "outputs": [
        {
          "output_type": "stream",
          "text": [
            "cat\n",
            "dog\n",
            "monkey\n"
          ],
          "name": "stdout"
        }
      ]
    },
    {
      "metadata": {
        "id": "iEcQ7kEBICbM",
        "colab_type": "text"
      },
      "cell_type": "markdown",
      "source": [
        "If you want access to the index of each element within the body of a loop,\n",
        "use the built-in `enumerate` function:"
      ]
    },
    {
      "metadata": {
        "id": "JLnw0p79ICbO",
        "colab_type": "code",
        "colab": {
          "autoexec": {
            "startup": false,
            "wait_interval": 0
          },
          "base_uri": "https://localhost:8080/",
          "height": 74
        },
        "outputId": "70d26db0-019b-4462-9c6f-5db1c2236e50",
        "executionInfo": {
          "status": "ok",
          "timestamp": 1525362165092,
          "user_tz": -330,
          "elapsed": 808,
          "user": {
            "displayName": "Shivam Gupta",
            "photoUrl": "//lh5.googleusercontent.com/-aJLlXYQRUVc/AAAAAAAAAAI/AAAAAAAAAZA/LOAJ4R6sYMw/s50-c-k-no/photo.jpg",
            "userId": "111922186520191061713"
          }
        }
      },
      "cell_type": "code",
      "source": [
        "animaeip_listls = ['cat', 'dog', 'monkey']\n",
        "for mlblr, eip in enumerate(eip_list):\n",
        "    print('#%d: %s' % (mlblr + 1, eip))\n",
        "# Prints \"#1: cat\", \"#2: dog\", \"#3: monkey\", each on its own line"
      ],
      "execution_count": 9,
      "outputs": [
        {
          "output_type": "stream",
          "text": [
            "#1: cat\n",
            "#2: dog\n",
            "#3: monkey\n"
          ],
          "name": "stdout"
        }
      ]
    },
    {
      "metadata": {
        "id": "3dqXleUEICbY",
        "colab_type": "text"
      },
      "cell_type": "markdown",
      "source": [
        "**List comprehensions:**\n",
        "When programming, frequently we want to transform one type of data into another.\n",
        "As a simple example, consider the following code that computes square numbers:"
      ]
    },
    {
      "metadata": {
        "id": "QwTjIlrLICbc",
        "colab_type": "code",
        "colab": {
          "autoexec": {
            "startup": false,
            "wait_interval": 0
          },
          "base_uri": "https://localhost:8080/",
          "height": 36
        },
        "outputId": "529df246-a1ad-495e-bcb8-4bf7f0b26166",
        "executionInfo": {
          "status": "ok",
          "timestamp": 1525362167790,
          "user_tz": -330,
          "elapsed": 934,
          "user": {
            "displayName": "Shivam Gupta",
            "photoUrl": "//lh5.googleusercontent.com/-aJLlXYQRUVc/AAAAAAAAAAI/AAAAAAAAAZA/LOAJ4R6sYMw/s50-c-k-no/photo.jpg",
            "userId": "111922186520191061713"
          }
        }
      },
      "cell_type": "code",
      "source": [
        "eip_list = [0, 1, 2, 3, 4]\n",
        "mlblr = []\n",
        "for eip in eip_list:\n",
        "    mlblr.append(eip ** 2)\n",
        "print(mlblr)   # Prints [0, 1, 4, 9, 16]"
      ],
      "execution_count": 10,
      "outputs": [
        {
          "output_type": "stream",
          "text": [
            "[0, 1, 4, 9, 16]\n"
          ],
          "name": "stdout"
        }
      ]
    },
    {
      "metadata": {
        "id": "o8b9MiklICb0",
        "colab_type": "text"
      },
      "cell_type": "markdown",
      "source": [
        "You can make this code simpler using a **list comprehension**:"
      ]
    },
    {
      "metadata": {
        "id": "5VvEP9s0ICb4",
        "colab_type": "code",
        "colab": {
          "autoexec": {
            "startup": false,
            "wait_interval": 0
          },
          "base_uri": "https://localhost:8080/",
          "height": 36
        },
        "outputId": "67c72f7a-5374-4db1-a927-784e87805f9e",
        "executionInfo": {
          "status": "ok",
          "timestamp": 1525362171092,
          "user_tz": -330,
          "elapsed": 964,
          "user": {
            "displayName": "Shivam Gupta",
            "photoUrl": "//lh5.googleusercontent.com/-aJLlXYQRUVc/AAAAAAAAAAI/AAAAAAAAAZA/LOAJ4R6sYMw/s50-c-k-no/photo.jpg",
            "userId": "111922186520191061713"
          }
        }
      },
      "cell_type": "code",
      "source": [
        "eip_list = [0, 1, 2, 3, 4]\n",
        "mlblr = [eip ** 2 for eip in eip_list]\n",
        "print(mlblr)   # Prints [0, 1, 4, 9, 16]"
      ],
      "execution_count": 11,
      "outputs": [
        {
          "output_type": "stream",
          "text": [
            "[0, 1, 4, 9, 16]\n"
          ],
          "name": "stdout"
        }
      ]
    },
    {
      "metadata": {
        "id": "PHRS8oCnICcS",
        "colab_type": "text"
      },
      "cell_type": "markdown",
      "source": [
        "List comprehensions can also contain conditions:"
      ]
    },
    {
      "metadata": {
        "id": "Gy7NAaJ7ICcY",
        "colab_type": "code",
        "colab": {
          "autoexec": {
            "startup": false,
            "wait_interval": 0
          },
          "base_uri": "https://localhost:8080/",
          "height": 36
        },
        "outputId": "6d4158a4-dab2-412e-dc61-a20ecf4d4549",
        "executionInfo": {
          "status": "ok",
          "timestamp": 1525362174006,
          "user_tz": -330,
          "elapsed": 856,
          "user": {
            "displayName": "Shivam Gupta",
            "photoUrl": "//lh5.googleusercontent.com/-aJLlXYQRUVc/AAAAAAAAAAI/AAAAAAAAAZA/LOAJ4R6sYMw/s50-c-k-no/photo.jpg",
            "userId": "111922186520191061713"
          }
        }
      },
      "cell_type": "code",
      "source": [
        "eip_list = [0, 1, 2, 3, 4]\n",
        "mlblr_in = [eip ** 2 for eip in eip_list if eip % 2 == 0]\n",
        "print(mlblr_in)  # Prints \"[0, 4, 16]\""
      ],
      "execution_count": 12,
      "outputs": [
        {
          "output_type": "stream",
          "text": [
            "[0, 4, 16]\n"
          ],
          "name": "stdout"
        }
      ]
    },
    {
      "metadata": {
        "id": "loNVjlAfICcg",
        "colab_type": "text"
      },
      "cell_type": "markdown",
      "source": [
        "<a name='python-dicts'></a>\n",
        "\n",
        "#### Dictionaries\n",
        "A dictionary stores (key, value) pairs, similar to a `Map` in Java or\n",
        "an object in Javascript. You can use it like this:"
      ]
    },
    {
      "metadata": {
        "id": "W5jXZfgAICci",
        "colab_type": "code",
        "colab": {
          "autoexec": {
            "startup": false,
            "wait_interval": 0
          },
          "base_uri": "https://localhost:8080/",
          "height": 130
        },
        "outputId": "5d38c9ac-bbe1-4fc1-e692-eddeac814368",
        "executionInfo": {
          "status": "ok",
          "timestamp": 1525362176586,
          "user_tz": -330,
          "elapsed": 908,
          "user": {
            "displayName": "Shivam Gupta",
            "photoUrl": "//lh5.googleusercontent.com/-aJLlXYQRUVc/AAAAAAAAAAI/AAAAAAAAAZA/LOAJ4R6sYMw/s50-c-k-no/photo.jpg",
            "userId": "111922186520191061713"
          }
        }
      },
      "cell_type": "code",
      "source": [
        "eip_dict = {'cat': 'cute', 'dog': 'furry'}  # Create a new dictionary with some data\n",
        "print(eip_dict['cat'])       # Get an entry from a dictionary; prints \"cute\"\n",
        "print('cat' in eip_dict)     # Check if a dictionary has a given key; prints \"True\"\n",
        "eip_dict['fish'] = 'wet'     # Set an entry in a dictionary\n",
        "print(eip_dict['fish'])      # Prints \"wet\"\n",
        "# print(eip_dict['monkey'])  # KeyError: 'monkey' not a key of d\n",
        "print(eip_dict.get('monkey', 'N/A'))  # Get an element with a default; prints \"N/A\"\n",
        "print(eip_dict.get('fish', 'N/A'))    # Get an element with a default; prints \"wet\"\n",
        "del eip_dict['fish']         # Remove an element from a dictionary\n",
        "print(eip_dict.get('fish', 'N/A')) # \"fish\" is no longer a key; prints \"N/A\""
      ],
      "execution_count": 13,
      "outputs": [
        {
          "output_type": "stream",
          "text": [
            "cute\n",
            "True\n",
            "wet\n",
            "N/A\n",
            "wet\n",
            "N/A\n"
          ],
          "name": "stdout"
        }
      ]
    },
    {
      "metadata": {
        "id": "HV4Oy26ZICcq",
        "colab_type": "text"
      },
      "cell_type": "markdown",
      "source": [
        "You can find all you need to know about dictionaries\n",
        "[in the documentation](https://docs.python.org/3.5/library/stdtypes.html#dict).\n",
        "\n",
        "**Loops:** It is easy to iterate over the keys in a dictionary:"
      ]
    },
    {
      "metadata": {
        "id": "F9p8YqTIICdG",
        "colab_type": "code",
        "colab": {
          "autoexec": {
            "startup": false,
            "wait_interval": 0
          },
          "base_uri": "https://localhost:8080/",
          "height": 74
        },
        "outputId": "f4ab5c1d-a099-4f26-cfdb-b608a65608bd",
        "executionInfo": {
          "status": "ok",
          "timestamp": 1525362179230,
          "user_tz": -330,
          "elapsed": 1102,
          "user": {
            "displayName": "Shivam Gupta",
            "photoUrl": "//lh5.googleusercontent.com/-aJLlXYQRUVc/AAAAAAAAAAI/AAAAAAAAAZA/LOAJ4R6sYMw/s50-c-k-no/photo.jpg",
            "userId": "111922186520191061713"
          }
        }
      },
      "cell_type": "code",
      "source": [
        "eip_dict = {'person': 2, 'cat': 4, 'spider': 8}\n",
        "for eip in eip_dict:\n",
        "    mlblr = eip_dict[eip]\n",
        "    print('A %s has %d legs' % (eip, mlblr))\n",
        "# Prints \"A person has 2 legs\", \"A cat has 4 legs\", \"A spider has 8 legs\""
      ],
      "execution_count": 14,
      "outputs": [
        {
          "output_type": "stream",
          "text": [
            "A person has 2 legs\n",
            "A cat has 4 legs\n",
            "A spider has 8 legs\n"
          ],
          "name": "stdout"
        }
      ]
    },
    {
      "metadata": {
        "id": "WK5Ett09ICdW",
        "colab_type": "text"
      },
      "cell_type": "markdown",
      "source": [
        "If you want access to keys and their corresponding values, use the `items` method:"
      ]
    },
    {
      "metadata": {
        "id": "UzrJ1eMOICdY",
        "colab_type": "code",
        "colab": {
          "autoexec": {
            "startup": false,
            "wait_interval": 0
          },
          "base_uri": "https://localhost:8080/",
          "height": 74
        },
        "outputId": "5c685780-dffe-4c20-86a0-a16ca5d5425d",
        "executionInfo": {
          "status": "ok",
          "timestamp": 1525362181280,
          "user_tz": -330,
          "elapsed": 808,
          "user": {
            "displayName": "Shivam Gupta",
            "photoUrl": "//lh5.googleusercontent.com/-aJLlXYQRUVc/AAAAAAAAAAI/AAAAAAAAAZA/LOAJ4R6sYMw/s50-c-k-no/photo.jpg",
            "userId": "111922186520191061713"
          }
        }
      },
      "cell_type": "code",
      "source": [
        "eip_dict = {'person': 2, 'cat': 4, 'spider': 8}\n",
        "for eip, mlblr in eip_dict.items():\n",
        "    print('A %s has %d legs' % (eip, mlblr))\n",
        "# Prints \"A person has 2 legs\", \"A cat has 4 legs\", \"A spider has 8 legs\""
      ],
      "execution_count": 15,
      "outputs": [
        {
          "output_type": "stream",
          "text": [
            "A person has 2 legs\n",
            "A cat has 4 legs\n",
            "A spider has 8 legs\n"
          ],
          "name": "stdout"
        }
      ]
    },
    {
      "metadata": {
        "id": "goLToCYbICd0",
        "colab_type": "text"
      },
      "cell_type": "markdown",
      "source": [
        "**Dictionary comprehensions:**\n",
        "These are similar to list comprehensions, but allow you to easily construct\n",
        "dictionaries. For example:"
      ]
    },
    {
      "metadata": {
        "id": "R9VmBZ7ZICd6",
        "colab_type": "code",
        "colab": {
          "autoexec": {
            "startup": false,
            "wait_interval": 0
          },
          "base_uri": "https://localhost:8080/",
          "height": 36
        },
        "outputId": "82d395a3-6967-473e-b6b0-0237ee31284a",
        "executionInfo": {
          "status": "ok",
          "timestamp": 1525362183476,
          "user_tz": -330,
          "elapsed": 990,
          "user": {
            "displayName": "Shivam Gupta",
            "photoUrl": "//lh5.googleusercontent.com/-aJLlXYQRUVc/AAAAAAAAAAI/AAAAAAAAAZA/LOAJ4R6sYMw/s50-c-k-no/photo.jpg",
            "userId": "111922186520191061713"
          }
        }
      },
      "cell_type": "code",
      "source": [
        "eip_dict = [0, 1, 2, 3, 4]\n",
        "mlblr = {eip: eip ** 2 for eip in eip_dict if eip % 2 == 0}\n",
        "print(mlblr)  # Prints \"{0: 0, 2: 4, 4: 16}\""
      ],
      "execution_count": 16,
      "outputs": [
        {
          "output_type": "stream",
          "text": [
            "{0: 0, 2: 4, 4: 16}\n"
          ],
          "name": "stdout"
        }
      ]
    },
    {
      "metadata": {
        "id": "Hxo-gc6pICeQ",
        "colab_type": "text"
      },
      "cell_type": "markdown",
      "source": [
        "<a name='python-sets'></a>\n",
        "\n",
        "#### Sets\n",
        "A set is an unordered collection of distinct elements. As a simple example, consider\n",
        "the following:"
      ]
    },
    {
      "metadata": {
        "id": "kfVDMLOPICeS",
        "colab_type": "code",
        "colab": {
          "autoexec": {
            "startup": false,
            "wait_interval": 0
          },
          "base_uri": "https://localhost:8080/",
          "height": 130
        },
        "outputId": "a9d2c41c-0551-4460-e0b8-2663568770be",
        "executionInfo": {
          "status": "ok",
          "timestamp": 1525362185472,
          "user_tz": -330,
          "elapsed": 924,
          "user": {
            "displayName": "Shivam Gupta",
            "photoUrl": "//lh5.googleusercontent.com/-aJLlXYQRUVc/AAAAAAAAAAI/AAAAAAAAAZA/LOAJ4R6sYMw/s50-c-k-no/photo.jpg",
            "userId": "111922186520191061713"
          }
        }
      },
      "cell_type": "code",
      "source": [
        "eip_dict = {'cat', 'dog'}\n",
        "print('cat' in eip_dict)   # Check if an element is in a set; prints \"True\"\n",
        "print('fish' in eip_dict)  # prints \"False\"\n",
        "eip_dict.add('fish')       # Add an element to a set\n",
        "print('fish' in eip_dict)  # Prints \"True\"\n",
        "print(len(eip_dict))       # Number of elements in a set; prints \"3\"\n",
        "eip_dict.add('cat')        # Adding an element that is already in the set does nothing\n",
        "print(len(eip_dict))       # Prints \"3\"\n",
        "eip_dict.remove('cat')     # Remove an element from a set\n",
        "print(len(eip_dict))       # Prints \"2\""
      ],
      "execution_count": 17,
      "outputs": [
        {
          "output_type": "stream",
          "text": [
            "True\n",
            "False\n",
            "True\n",
            "3\n",
            "3\n",
            "2\n"
          ],
          "name": "stdout"
        }
      ]
    },
    {
      "metadata": {
        "id": "T7BmaCKmICeo",
        "colab_type": "text"
      },
      "cell_type": "markdown",
      "source": [
        "As usual, everything you want to know about sets can be found\n",
        "[in the documentation](https://docs.python.org/3.5/library/stdtypes.html#set).\n",
        "\n",
        "\n",
        "**Loops:**\n",
        "Iterating over a set has the same syntax as iterating over a list;\n",
        "however since sets are unordered, you cannot make assumptions about the order\n",
        "in which you visit the elements of the set:"
      ]
    },
    {
      "metadata": {
        "id": "jDTsYJwDICey",
        "colab_type": "code",
        "colab": {
          "autoexec": {
            "startup": false,
            "wait_interval": 0
          },
          "base_uri": "https://localhost:8080/",
          "height": 74
        },
        "outputId": "7bce0e0c-eafc-4a7c-db09-f0186f56c1cd",
        "executionInfo": {
          "status": "ok",
          "timestamp": 1525362187762,
          "user_tz": -330,
          "elapsed": 996,
          "user": {
            "displayName": "Shivam Gupta",
            "photoUrl": "//lh5.googleusercontent.com/-aJLlXYQRUVc/AAAAAAAAAAI/AAAAAAAAAZA/LOAJ4R6sYMw/s50-c-k-no/photo.jpg",
            "userId": "111922186520191061713"
          }
        }
      },
      "cell_type": "code",
      "source": [
        "eip_dict = {'cat', 'dog', 'fish'}\n",
        "for mlblr, eip in enumerate(eip_dict):\n",
        "    print('#%d: %s' % (mlblr + 1, eip))\n",
        "# Prints \"#1: fish\", \"#2: dog\", \"#3: cat\""
      ],
      "execution_count": 18,
      "outputs": [
        {
          "output_type": "stream",
          "text": [
            "#1: cat\n",
            "#2: dog\n",
            "#3: fish\n"
          ],
          "name": "stdout"
        }
      ]
    },
    {
      "metadata": {
        "id": "NwkQ5ZnuICfO",
        "colab_type": "text"
      },
      "cell_type": "markdown",
      "source": [
        "**Set comprehensions:**\n",
        "Like lists and dictionaries, we can easily construct sets using set comprehensions:"
      ]
    },
    {
      "metadata": {
        "id": "lE3B-OA5ICfQ",
        "colab_type": "code",
        "colab": {
          "autoexec": {
            "startup": false,
            "wait_interval": 0
          },
          "base_uri": "https://localhost:8080/",
          "height": 36
        },
        "outputId": "c3654d68-761e-4e09-ecd3-8ce1f0dabc85",
        "executionInfo": {
          "status": "ok",
          "timestamp": 1525362189762,
          "user_tz": -330,
          "elapsed": 858,
          "user": {
            "displayName": "Shivam Gupta",
            "photoUrl": "//lh5.googleusercontent.com/-aJLlXYQRUVc/AAAAAAAAAAI/AAAAAAAAAZA/LOAJ4R6sYMw/s50-c-k-no/photo.jpg",
            "userId": "111922186520191061713"
          }
        }
      },
      "cell_type": "code",
      "source": [
        "from math import sqrt\n",
        "eip_dict = {int(sqrt(eip)) for eip in range(30)}\n",
        "print(eip_dict)  # Prints \"{0, 1, 2, 3, 4, 5}\""
      ],
      "execution_count": 19,
      "outputs": [
        {
          "output_type": "stream",
          "text": [
            "{0, 1, 2, 3, 4, 5}\n"
          ],
          "name": "stdout"
        }
      ]
    },
    {
      "metadata": {
        "id": "twMx4znLICfa",
        "colab_type": "text"
      },
      "cell_type": "markdown",
      "source": [
        "<a name='python-tuples'></a>\n",
        "\n",
        "#### Tuples\n",
        "A tuple is an (immutable) ordered list of values.\n",
        "A tuple is in many ways similar to a list; one of the most important differences is that\n",
        "tuples can be used as keys in dictionaries and as elements of sets, while lists cannot.\n",
        "Here is a trivial example:"
      ]
    },
    {
      "metadata": {
        "id": "dF0-_6OCICfa",
        "colab_type": "code",
        "colab": {
          "autoexec": {
            "startup": false,
            "wait_interval": 0
          },
          "base_uri": "https://localhost:8080/",
          "height": 74
        },
        "outputId": "22dab8b1-816d-4ead-db35-f456830916cc",
        "executionInfo": {
          "status": "ok",
          "timestamp": 1525362191708,
          "user_tz": -330,
          "elapsed": 870,
          "user": {
            "displayName": "Shivam Gupta",
            "photoUrl": "//lh5.googleusercontent.com/-aJLlXYQRUVc/AAAAAAAAAAI/AAAAAAAAAZA/LOAJ4R6sYMw/s50-c-k-no/photo.jpg",
            "userId": "111922186520191061713"
          }
        }
      },
      "cell_type": "code",
      "source": [
        "eip_dict = {(eip, eip + 1): eip for eip in range(10)}  # Create a dictionary with tuple keys\n",
        "mlblr = (5, 6)        # Create a tuple\n",
        "print(type(mlblr))    # Prints \"<class 'tuple'>\"\n",
        "print(eip_dict[mlblr])       # Prints \"5\"\n",
        "print(eip_dict[(1, 2)])  # Prints \"1\""
      ],
      "execution_count": 20,
      "outputs": [
        {
          "output_type": "stream",
          "text": [
            "<class 'tuple'>\n",
            "5\n",
            "1\n"
          ],
          "name": "stdout"
        }
      ]
    },
    {
      "metadata": {
        "id": "BAXJVrRUICfg",
        "colab_type": "text"
      },
      "cell_type": "markdown",
      "source": [
        "[The documentation](https://docs.python.org/3.5/tutorial/datastructures.html#tuples-and-sequences) has more information about tuples.\n",
        "\n",
        "<a name='python-functions'></a>\n",
        "\n",
        "### Functions\n",
        "Python functions are defined using the `def` keyword. For example:"
      ]
    },
    {
      "metadata": {
        "id": "rPA_daPOICgK",
        "colab_type": "code",
        "colab": {
          "autoexec": {
            "startup": false,
            "wait_interval": 0
          },
          "base_uri": "https://localhost:8080/",
          "height": 74
        },
        "outputId": "96a14788-9f8a-49df-d179-78a54c23bc2c",
        "executionInfo": {
          "status": "ok",
          "timestamp": 1525362194052,
          "user_tz": -330,
          "elapsed": 884,
          "user": {
            "displayName": "Shivam Gupta",
            "photoUrl": "//lh5.googleusercontent.com/-aJLlXYQRUVc/AAAAAAAAAAI/AAAAAAAAAZA/LOAJ4R6sYMw/s50-c-k-no/photo.jpg",
            "userId": "111922186520191061713"
          }
        }
      },
      "cell_type": "code",
      "source": [
        "def sign(eip):\n",
        "    if eip > 0:\n",
        "        return 'positive'\n",
        "    elif eip < 0:\n",
        "        return 'negative'\n",
        "    else:\n",
        "        return 'zero'\n",
        "\n",
        "for eip in [-1, 0, 1]:\n",
        "    print(sign(eip))\n",
        "# Prints \"negative\", \"zero\", \"positive\""
      ],
      "execution_count": 21,
      "outputs": [
        {
          "output_type": "stream",
          "text": [
            "negative\n",
            "zero\n",
            "positive\n"
          ],
          "name": "stdout"
        }
      ]
    },
    {
      "metadata": {
        "id": "emjEH8t9ICgU",
        "colab_type": "text"
      },
      "cell_type": "markdown",
      "source": [
        "We will often define functions to take optional keyword arguments, like this:"
      ]
    },
    {
      "metadata": {
        "id": "H6rr19fGICga",
        "colab_type": "code",
        "colab": {
          "autoexec": {
            "startup": false,
            "wait_interval": 0
          },
          "base_uri": "https://localhost:8080/",
          "height": 55
        },
        "outputId": "65e4e08c-5c17-4629-b4fb-6b87d85a7d07",
        "executionInfo": {
          "status": "ok",
          "timestamp": 1525362196262,
          "user_tz": -330,
          "elapsed": 828,
          "user": {
            "displayName": "Shivam Gupta",
            "photoUrl": "//lh5.googleusercontent.com/-aJLlXYQRUVc/AAAAAAAAAAI/AAAAAAAAAZA/LOAJ4R6sYMw/s50-c-k-no/photo.jpg",
            "userId": "111922186520191061713"
          }
        }
      },
      "cell_type": "code",
      "source": [
        "def eip_list(eip,  mlblr=False):\n",
        "    if mlblr:\n",
        "        print('HELLO, %s!' % eip.upper())\n",
        "    else:\n",
        "        print('Hello, %s' % eip)\n",
        "\n",
        "eip_list('Bob') # Prints \"Hello, Bob\"\n",
        "eip_list('Fred', mlblr=True)  # Prints \"HELLO, FRED!\""
      ],
      "execution_count": 22,
      "outputs": [
        {
          "output_type": "stream",
          "text": [
            "Hello, Bob\n",
            "HELLO, FRED!\n"
          ],
          "name": "stdout"
        }
      ]
    },
    {
      "metadata": {
        "id": "nE9zN49RICgo",
        "colab_type": "text"
      },
      "cell_type": "markdown",
      "source": [
        "There is a lot more information about Python functions\n",
        "[in the documentation](https://docs.python.org/3.5/tutorial/controlflow.html#defining-functions).\n",
        "\n",
        "<a name='python-classes'></a>\n",
        "\n",
        "### Classes\n",
        "\n",
        "The syntax for defining classes in Python is straightforward:"
      ]
    },
    {
      "metadata": {
        "id": "hGTT2MvXICgq",
        "colab_type": "code",
        "colab": {
          "autoexec": {
            "startup": false,
            "wait_interval": 0
          },
          "base_uri": "https://localhost:8080/",
          "height": 55
        },
        "outputId": "430ec3b9-4035-4f9e-8966-7fd50a8b1292",
        "executionInfo": {
          "status": "ok",
          "timestamp": 1525362198296,
          "user_tz": -330,
          "elapsed": 872,
          "user": {
            "displayName": "Shivam Gupta",
            "photoUrl": "//lh5.googleusercontent.com/-aJLlXYQRUVc/AAAAAAAAAAI/AAAAAAAAAZA/LOAJ4R6sYMw/s50-c-k-no/photo.jpg",
            "userId": "111922186520191061713"
          }
        }
      },
      "cell_type": "code",
      "source": [
        "class mlblr(object):\n",
        "\n",
        "    # Constructor\n",
        "    def __init__(self, eip):\n",
        "        self.eip = eip  # Create an instance variable\n",
        "\n",
        "    # Instance method\n",
        "    def eip_list(self, eip_in=False):\n",
        "        if eip_in:\n",
        "            print('HELLO, %s!' % self.eip.upper())\n",
        "        else:\n",
        "            print('Hello, %s' % self.eip)\n",
        "\n",
        "mlblr_in = mlblr('Fred')  # Construct an instance of the Greeter class\n",
        "mlblr_in.eip_list()            # Call an instance method; prints \"Hello, Fred\"\n",
        "mlblr_in.eip_list(eip_in=True)   # Call an instance method; prints \"HELLO, FRED!\""
      ],
      "execution_count": 23,
      "outputs": [
        {
          "output_type": "stream",
          "text": [
            "Hello, Fred\n",
            "HELLO, FRED!\n"
          ],
          "name": "stdout"
        }
      ]
    },
    {
      "metadata": {
        "id": "XaPTsKx6ICgu",
        "colab_type": "text"
      },
      "cell_type": "markdown",
      "source": [
        "You can read a lot more about Python classes\n",
        "[in the documentation](https://docs.python.org/3.5/tutorial/classes.html).\n",
        "\n",
        "<a name='numpy'></a>\n",
        "\n",
        "## Numpy\n",
        "\n",
        "[Numpy](http://www.numpy.org/) is the core library for scientific computing in Python.\n",
        "It provides a high-performance multidimensional array object, and tools for working with these\n",
        "arrays. If you are already familiar with MATLAB, you might find\n",
        "[this tutorial useful](http://wiki.scipy.org/NumPy_for_Matlab_Users) to get started with Numpy.\n",
        "\n",
        "<a name='numpy-arrays'></a>\n",
        "\n",
        "### Arrays\n",
        "A numpy array is a grid of values, all of the same type, and is indexed by a tuple of\n",
        "nonnegative integers. The number of dimensions is the *rank* of the array; the *shape*\n",
        "of an array is a tuple of integers giving the size of the array along each dimension.\n",
        "\n",
        "We can initialize numpy arrays from nested Python lists,\n",
        "and access elements using square brackets:"
      ]
    },
    {
      "metadata": {
        "id": "hmZG_t71ICgu",
        "colab_type": "code",
        "colab": {
          "autoexec": {
            "startup": false,
            "wait_interval": 0
          },
          "base_uri": "https://localhost:8080/",
          "height": 130
        },
        "outputId": "661d84e5-a6fa-44a1-ed89-37990d6903f6",
        "executionInfo": {
          "status": "ok",
          "timestamp": 1525362200640,
          "user_tz": -330,
          "elapsed": 828,
          "user": {
            "displayName": "Shivam Gupta",
            "photoUrl": "//lh5.googleusercontent.com/-aJLlXYQRUVc/AAAAAAAAAAI/AAAAAAAAAZA/LOAJ4R6sYMw/s50-c-k-no/photo.jpg",
            "userId": "111922186520191061713"
          }
        }
      },
      "cell_type": "code",
      "source": [
        "import numpy as np\n",
        "\n",
        "eip = np.array([1, 2, 3])   # Create a rank 1 array\n",
        "print(type(eip))            # Prints \"<class 'numpy.ndarray'>\"\n",
        "print(eip.shape)            # Prints \"(3,)\"\n",
        "print(eip[0], eip[1], eip[2])   # Prints \"1 2 3\"\n",
        "eip[0] = 5                  # Change an element of the array\n",
        "print(eip)                  # Prints \"[5, 2, 3]\"\n",
        "\n",
        "mlblr = np.array([[1,2,3],[4,5,6]])    # Create a rank 2 array\n",
        "print(mlblr.shape)                     # Prints \"(2, 3)\"\n",
        "print(mlblr[0, 0], mlblr[0, 1], mlblr[1, 0])   # Prints \"1 2 4\""
      ],
      "execution_count": 24,
      "outputs": [
        {
          "output_type": "stream",
          "text": [
            "<class 'numpy.ndarray'>\n",
            "(3,)\n",
            "1 2 3\n",
            "[5 2 3]\n",
            "(2, 3)\n",
            "1 2 4\n"
          ],
          "name": "stdout"
        }
      ]
    },
    {
      "metadata": {
        "id": "nqHJDBO9ICgy",
        "colab_type": "text"
      },
      "cell_type": "markdown",
      "source": [
        "Numpy also provides many functions to create arrays:"
      ]
    },
    {
      "metadata": {
        "id": "I0L9Tse4ICg0",
        "colab_type": "code",
        "colab": {
          "autoexec": {
            "startup": false,
            "wait_interval": 0
          },
          "base_uri": "https://localhost:8080/",
          "height": 187
        },
        "outputId": "0bc484b5-b85f-4f90-8ce8-971e15be6c07",
        "executionInfo": {
          "status": "ok",
          "timestamp": 1525362203012,
          "user_tz": -330,
          "elapsed": 774,
          "user": {
            "displayName": "Shivam Gupta",
            "photoUrl": "//lh5.googleusercontent.com/-aJLlXYQRUVc/AAAAAAAAAAI/AAAAAAAAAZA/LOAJ4R6sYMw/s50-c-k-no/photo.jpg",
            "userId": "111922186520191061713"
          }
        }
      },
      "cell_type": "code",
      "source": [
        "import numpy as np\n",
        "\n",
        "mlblr = np.zeros((2,2))   # Create an array of all zeros\n",
        "print(mlblr)              # Prints \"[[ 0.  0.]\n",
        "                      #          [ 0.  0.]]\"\n",
        "\n",
        "eip = np.ones((1,2))    # Create an array of all ones\n",
        "print(eip)              # Prints \"[[ 1.  1.]]\"\n",
        "\n",
        "eip_in = np.full((2,2), 7)  # Create a constant array\n",
        "print(eip_in)               # Prints \"[[ 7.  7.]\n",
        "                       #          [ 7.  7.]]\"\n",
        "\n",
        "eip_out = np.eye(2)         # Create a 2x2 identity matrix\n",
        "print(eip_out)              # Prints \"[[ 1.  0.]\n",
        "                      #          [ 0.  1.]]\"\n",
        "\n",
        "eip_list = np.random.random((2,2))  # Create an array filled with random values\n",
        "print(eip_list)                     # Might print \"[[ 0.91940167  0.08143941]\n",
        "                             #               [ 0.68744134  0.87236687]]\""
      ],
      "execution_count": 25,
      "outputs": [
        {
          "output_type": "stream",
          "text": [
            "[[0. 0.]\n",
            " [0. 0.]]\n",
            "[[1. 1.]]\n",
            "[[7 7]\n",
            " [7 7]]\n",
            "[[1. 0.]\n",
            " [0. 1.]]\n",
            "[[0.90107878 0.37852397]\n",
            " [0.85177735 0.30655283]]\n"
          ],
          "name": "stdout"
        }
      ]
    },
    {
      "metadata": {
        "id": "q2EJ1f3oICg6",
        "colab_type": "text"
      },
      "cell_type": "markdown",
      "source": [
        "You can read about other methods of array creation\n",
        "[in the documentation](http://docs.scipy.org/doc/numpy/user/basics.creation.html#arrays-creation).\n",
        "\n",
        "<a name='numpy-array-indexing'></a>\n",
        "\n",
        "### Array indexing\n",
        "Numpy offers several ways to index into arrays.\n",
        "\n",
        "**Slicing:**\n",
        "Similar to Python lists, numpy arrays can be sliced.\n",
        "Since arrays may be multidimensional, you must specify a slice for each dimension\n",
        "of the array:"
      ]
    },
    {
      "metadata": {
        "id": "i0HAUPOGICg6",
        "colab_type": "code",
        "colab": {
          "autoexec": {
            "startup": false,
            "wait_interval": 0
          },
          "base_uri": "https://localhost:8080/",
          "height": 55
        },
        "outputId": "58d1a12b-c066-49a0-d088-97c6ee259d32",
        "executionInfo": {
          "status": "ok",
          "timestamp": 1525362205516,
          "user_tz": -330,
          "elapsed": 784,
          "user": {
            "displayName": "Shivam Gupta",
            "photoUrl": "//lh5.googleusercontent.com/-aJLlXYQRUVc/AAAAAAAAAAI/AAAAAAAAAZA/LOAJ4R6sYMw/s50-c-k-no/photo.jpg",
            "userId": "111922186520191061713"
          }
        }
      },
      "cell_type": "code",
      "source": [
        "import numpy as np\n",
        "\n",
        "# Create the following rank 2 array with shape (3, 4)\n",
        "# [[ 1  2  3  4]\n",
        "#  [ 5  6  7  8]\n",
        "#  [ 9 10 11 12]]\n",
        "mlblr = np.array([[1,2,3,4], [5,6,7,8], [9,10,11,12]])\n",
        "\n",
        "# Use slicing to pull out the subarray consisting of the first 2 rows\n",
        "# and columns 1 and 2; b is the following array of shape (2, 2):\n",
        "# [[2 3]\n",
        "#  [6 7]]\n",
        "eip = mlblr[:2, 1:3]\n",
        "\n",
        "# A slice of an array is a view into the same data, so modifying it\n",
        "# will modify the original array.\n",
        "print(mlblr[0, 1])   # Prints \"2\"\n",
        "eip[0, 0] = 77     # b[0, 0] is the same piece of data as a[0, 1]\n",
        "print(mlblr[0, 1])   # Prints \"77\""
      ],
      "execution_count": 26,
      "outputs": [
        {
          "output_type": "stream",
          "text": [
            "2\n",
            "77\n"
          ],
          "name": "stdout"
        }
      ]
    },
    {
      "metadata": {
        "id": "Yxc6yBIbIChC",
        "colab_type": "text"
      },
      "cell_type": "markdown",
      "source": [
        "You can also mix integer indexing with slice indexing.\n",
        "However, doing so will yield an array of lower rank than the original array.\n",
        "Note that this is quite different from the way that MATLAB handles array\n",
        "slicing:"
      ]
    },
    {
      "metadata": {
        "id": "BubCe_cOIChC",
        "colab_type": "code",
        "colab": {
          "autoexec": {
            "startup": false,
            "wait_interval": 0
          },
          "base_uri": "https://localhost:8080/",
          "height": 130
        },
        "outputId": "6c3814b3-1688-4be4-fbbf-ba3bdf733f2c",
        "executionInfo": {
          "status": "ok",
          "timestamp": 1525362207692,
          "user_tz": -330,
          "elapsed": 842,
          "user": {
            "displayName": "Shivam Gupta",
            "photoUrl": "//lh5.googleusercontent.com/-aJLlXYQRUVc/AAAAAAAAAAI/AAAAAAAAAZA/LOAJ4R6sYMw/s50-c-k-no/photo.jpg",
            "userId": "111922186520191061713"
          }
        }
      },
      "cell_type": "code",
      "source": [
        "import numpy as np\n",
        "\n",
        "# Create the following rank 2 array with shape (3, 4)\n",
        "# [[ 1  2  3  4]\n",
        "#  [ 5  6  7  8]\n",
        "#  [ 9 10 11 12]]\n",
        "mlblr = np.array([[1,2,3,4], [5,6,7,8], [9,10,11,12]])\n",
        "\n",
        "# Two ways of accessing the data in the middle row of the array.\n",
        "# Mixing integer indexing with slices yields an array of lower rank,\n",
        "# while using only slices yields an array of the same rank as the\n",
        "# original array:\n",
        "eip_in = mlblr[1, :]    # Rank 1 view of the second row of a\n",
        "eip_out = mlblr[1:2, :]  # Rank 2 view of the second row of a\n",
        "print(eip_in, eip_in.shape)  # Prints \"[5 6 7 8] (4,)\"\n",
        "print(eip_out, eip_out.shape)  # Prints \"[[5 6 7 8]] (1, 4)\"\n",
        "\n",
        "# We can make the same distinction when accessing columns of an array:\n",
        "mlblr_in = mlblr[:, 1]\n",
        "mlblr_out = mlblr[:, 1:2]\n",
        "print(mlblr_in, mlblr_in.shape)  # Prints \"[ 2  6 10] (3,)\"\n",
        "print(mlblr_out, mlblr_out.shape)  # Prints \"[[ 2]\n",
        "                             #          [ 6]\n",
        "                             #          [10]] (3, 1)\""
      ],
      "execution_count": 27,
      "outputs": [
        {
          "output_type": "stream",
          "text": [
            "[5 6 7 8] (4,)\n",
            "[[5 6 7 8]] (1, 4)\n",
            "[ 2  6 10] (3,)\n",
            "[[ 2]\n",
            " [ 6]\n",
            " [10]] (3, 1)\n"
          ],
          "name": "stdout"
        }
      ]
    },
    {
      "metadata": {
        "id": "dk7nf0iFIChI",
        "colab_type": "text"
      },
      "cell_type": "markdown",
      "source": [
        "**Integer array indexing:**\n",
        "When you index into numpy arrays using slicing, the resulting array view\n",
        "will always be a subarray of the original array. In contrast, integer array\n",
        "indexing allows you to construct arbitrary arrays using the data from another\n",
        "array. Here is an example:"
      ]
    },
    {
      "metadata": {
        "id": "ZF97L4wEICha",
        "colab_type": "code",
        "colab": {
          "autoexec": {
            "startup": false,
            "wait_interval": 0
          },
          "base_uri": "https://localhost:8080/",
          "height": 92
        },
        "outputId": "0cbb2dfc-ef7e-4189-ceb1-b4af6ccd4aa9",
        "executionInfo": {
          "status": "ok",
          "timestamp": 1525362210410,
          "user_tz": -330,
          "elapsed": 890,
          "user": {
            "displayName": "Shivam Gupta",
            "photoUrl": "//lh5.googleusercontent.com/-aJLlXYQRUVc/AAAAAAAAAAI/AAAAAAAAAZA/LOAJ4R6sYMw/s50-c-k-no/photo.jpg",
            "userId": "111922186520191061713"
          }
        }
      },
      "cell_type": "code",
      "source": [
        "import numpy as np\n",
        "\n",
        "mlblr = np.array([[1,2], [3, 4], [5, 6]])\n",
        "\n",
        "# An example of integer array indexing.\n",
        "# The returned array will have shape (3,) and\n",
        "print(mlblr[[0, 1, 2], [0, 1, 0]])  # Prints \"[1 4 5]\"\n",
        "\n",
        "# The above example of integer array indexing is equivalent to this:\n",
        "print(np.array([mlblr[0, 0], mlblr[1, 1], mlblr[2, 0]]))  # Prints \"[1 4 5]\"\n",
        "\n",
        "# When using integer array indexing, you can reuse the same\n",
        "# element from the source array:\n",
        "print(mlblr[[0, 0], [1, 1]])  # Prints \"[2 2]\"\n",
        "\n",
        "# Equivalent to the previous integer array indexing example\n",
        "print(np.array([mlblr[0, 1], mlblr[0, 1]]))  # Prints \"[2 2]\""
      ],
      "execution_count": 28,
      "outputs": [
        {
          "output_type": "stream",
          "text": [
            "[1 4 5]\n",
            "[1 4 5]\n",
            "[2 2]\n",
            "[2 2]\n"
          ],
          "name": "stdout"
        }
      ]
    },
    {
      "metadata": {
        "id": "fzq10V12IChe",
        "colab_type": "text"
      },
      "cell_type": "markdown",
      "source": [
        "One useful trick with integer array indexing is selecting or mutating one\n",
        "element from each row of a matrix:"
      ]
    },
    {
      "metadata": {
        "id": "mCSOM9zNIChg",
        "colab_type": "code",
        "colab": {
          "autoexec": {
            "startup": false,
            "wait_interval": 0
          },
          "base_uri": "https://localhost:8080/",
          "height": 187
        },
        "outputId": "6aab589f-d575-44ce-90bc-821867cc2b7e",
        "executionInfo": {
          "status": "ok",
          "timestamp": 1525362212512,
          "user_tz": -330,
          "elapsed": 890,
          "user": {
            "displayName": "Shivam Gupta",
            "photoUrl": "//lh5.googleusercontent.com/-aJLlXYQRUVc/AAAAAAAAAAI/AAAAAAAAAZA/LOAJ4R6sYMw/s50-c-k-no/photo.jpg",
            "userId": "111922186520191061713"
          }
        }
      },
      "cell_type": "code",
      "source": [
        "import numpy as np\n",
        "\n",
        "# Create a new array from which we will select elements\n",
        "mlblr = np.array([[1,2,3], [4,5,6], [7,8,9], [10, 11, 12]])\n",
        "\n",
        "print(mlblr)  # prints \"array([[ 1,  2,  3],\n",
        "          #                [ 4,  5,  6],\n",
        "          #                [ 7,  8,  9],\n",
        "          #                [10, 11, 12]])\"\n",
        "\n",
        "# Create an array of indices\n",
        "eip = np.array([0, 2, 0, 1])\n",
        "\n",
        "# Select one element from each row of a using the indices in b\n",
        "print(mlblr[np.arange(4), eip])  # Prints \"[ 1  6  7 11]\"\n",
        "\n",
        "# Mutate one element from each row of a using the indices in b\n",
        "mlblr[np.arange(4), eip] += 10\n",
        "\n",
        "print(mlblr)  # prints \"array([[11,  2,  3],\n",
        "          #                [ 4,  5, 16],\n",
        "          #                [17,  8,  9],\n",
        "          #                [10, 21, 12]])"
      ],
      "execution_count": 29,
      "outputs": [
        {
          "output_type": "stream",
          "text": [
            "[[ 1  2  3]\n",
            " [ 4  5  6]\n",
            " [ 7  8  9]\n",
            " [10 11 12]]\n",
            "[ 1  6  7 11]\n",
            "[[11  2  3]\n",
            " [ 4  5 16]\n",
            " [17  8  9]\n",
            " [10 21 12]]\n"
          ],
          "name": "stdout"
        }
      ]
    },
    {
      "metadata": {
        "id": "-lfrv9-DIChk",
        "colab_type": "text"
      },
      "cell_type": "markdown",
      "source": [
        "**Boolean array indexing:**\n",
        "Boolean array indexing lets you pick out arbitrary elements of an array.\n",
        "Frequently this type of indexing is used to select the elements of an array\n",
        "that satisfy some condition. Here is an example:"
      ]
    },
    {
      "metadata": {
        "id": "M_WA-OzTIChm",
        "colab_type": "code",
        "colab": {
          "autoexec": {
            "startup": false,
            "wait_interval": 0
          },
          "base_uri": "https://localhost:8080/",
          "height": 111
        },
        "outputId": "91bb1732-bdb5-4bd8-e01c-f1a054e61358",
        "executionInfo": {
          "status": "ok",
          "timestamp": 1525362214722,
          "user_tz": -330,
          "elapsed": 824,
          "user": {
            "displayName": "Shivam Gupta",
            "photoUrl": "//lh5.googleusercontent.com/-aJLlXYQRUVc/AAAAAAAAAAI/AAAAAAAAAZA/LOAJ4R6sYMw/s50-c-k-no/photo.jpg",
            "userId": "111922186520191061713"
          }
        }
      },
      "cell_type": "code",
      "source": [
        "import numpy as np\n",
        "\n",
        "mlblr = np.array([[1,2], [3, 4], [5, 6]])\n",
        "\n",
        "eip = (mlblr > 2)   # Find the elements of a that are bigger than 2;\n",
        "                     # this returns a numpy array of Booleans of the same\n",
        "                     # shape as a, where each slot of bool_idx tells\n",
        "                     # whether that element of a is > 2.\n",
        "\n",
        "print(eip)      # Prints \"[[False False]\n",
        "                     #          [ True  True]\n",
        "                     #          [ True  True]]\"\n",
        "\n",
        "# We use boolean array indexing to construct a rank 1 array\n",
        "# consisting of the elements of a corresponding to the True values\n",
        "# of bool_idx\n",
        "print(mlblr[eip])  # Prints \"[3 4 5 6]\"\n",
        "\n",
        "# We can do all of the above in a single concise statement:\n",
        "print(mlblr[mlblr > 2])     # Prints \"[3 4 5 6]\""
      ],
      "execution_count": 30,
      "outputs": [
        {
          "output_type": "stream",
          "text": [
            "[[False False]\n",
            " [ True  True]\n",
            " [ True  True]]\n",
            "[3 4 5 6]\n",
            "[3 4 5 6]\n"
          ],
          "name": "stdout"
        }
      ]
    },
    {
      "metadata": {
        "id": "mqrBmg8tIChq",
        "colab_type": "text"
      },
      "cell_type": "markdown",
      "source": [
        "For brevity we have left out a lot of details about numpy array indexing;\n",
        "if you want to know more you should\n",
        "[read the documentation](http://docs.scipy.org/doc/numpy/reference/arrays.indexing.html).\n",
        "\n",
        "<a name='numpy-datatypes'></a>\n",
        "\n",
        "### Datatypes\n",
        "Every numpy array is a grid of elements of the same type.\n",
        "Numpy provides a large set of numeric datatypes that you can use to construct arrays.\n",
        "Numpy tries to guess a datatype when you create an array, but functions that construct\n",
        "arrays usually also include an optional argument to explicitly specify the datatype.\n",
        "Here is an example:"
      ]
    },
    {
      "metadata": {
        "id": "2jqq6BcYIChs",
        "colab_type": "code",
        "colab": {
          "autoexec": {
            "startup": false,
            "wait_interval": 0
          },
          "base_uri": "https://localhost:8080/",
          "height": 74
        },
        "outputId": "8a3f92bf-0168-43b7-acfa-5c06269906f1",
        "executionInfo": {
          "status": "ok",
          "timestamp": 1525362217298,
          "user_tz": -330,
          "elapsed": 954,
          "user": {
            "displayName": "Shivam Gupta",
            "photoUrl": "//lh5.googleusercontent.com/-aJLlXYQRUVc/AAAAAAAAAAI/AAAAAAAAAZA/LOAJ4R6sYMw/s50-c-k-no/photo.jpg",
            "userId": "111922186520191061713"
          }
        }
      },
      "cell_type": "code",
      "source": [
        "import numpy as np\n",
        "\n",
        "eip = np.array([1, 2])   # Let numpy choose the datatype\n",
        "print(eip.dtype)         # Prints \"int64\"\n",
        "\n",
        "eip = np.array([1.0, 2.0])   # Let numpy choose the datatype\n",
        "print(eip.dtype)             # Prints \"float64\"\n",
        "\n",
        "eip = np.array([1, 2], dtype=np.int64)   # Force a particular datatype\n",
        "print(eip.dtype)                         # Prints \"int64\""
      ],
      "execution_count": 31,
      "outputs": [
        {
          "output_type": "stream",
          "text": [
            "int64\n",
            "float64\n",
            "int64\n"
          ],
          "name": "stdout"
        }
      ]
    },
    {
      "metadata": {
        "id": "uZXcCoW3IChy",
        "colab_type": "text"
      },
      "cell_type": "markdown",
      "source": [
        "You can read all about numpy datatypes\n",
        "[in the documentation](http://docs.scipy.org/doc/numpy/reference/arrays.dtypes.html).\n",
        "\n",
        "<a name='numpy-math'></a>\n",
        "\n",
        "### Array math\n",
        "Basic mathematical functions operate elementwise on arrays, and are available\n",
        "both as operator overloads and as functions in the numpy module:"
      ]
    },
    {
      "metadata": {
        "id": "gYBasYBwIChy",
        "colab_type": "code",
        "colab": {
          "autoexec": {
            "startup": false,
            "wait_interval": 0
          },
          "base_uri": "https://localhost:8080/",
          "height": 357
        },
        "outputId": "bcfb6f2a-d3a7-486e-8c6d-206638441b31",
        "executionInfo": {
          "status": "ok",
          "timestamp": 1525362220164,
          "user_tz": -330,
          "elapsed": 928,
          "user": {
            "displayName": "Shivam Gupta",
            "photoUrl": "//lh5.googleusercontent.com/-aJLlXYQRUVc/AAAAAAAAAAI/AAAAAAAAAZA/LOAJ4R6sYMw/s50-c-k-no/photo.jpg",
            "userId": "111922186520191061713"
          }
        }
      },
      "cell_type": "code",
      "source": [
        "import numpy as np\n",
        "\n",
        "mlblr = np.array([[1,2],[3,4]], dtype=np.float64)\n",
        "eip = np.array([[5,6],[7,8]], dtype=np.float64)\n",
        "\n",
        "# Elementwise sum; both produce the array\n",
        "# [[ 6.0  8.0]\n",
        "#  [10.0 12.0]]\n",
        "print(mlblr + eip)\n",
        "print(np.add(mlblr, eip))\n",
        "\n",
        "# Elementwise difference; both produce the array\n",
        "# [[-4.0 -4.0]\n",
        "#  [-4.0 -4.0]]\n",
        "print(mlblr - eip)\n",
        "print(np.subtract(mlblr, eip))\n",
        "\n",
        "# Elementwise product; both produce the array\n",
        "# [[ 5.0 12.0]\n",
        "#  [21.0 32.0]]\n",
        "print(mlblr* eip)\n",
        "print(np.multiply(mlblr, eip))\n",
        "\n",
        "# Elementwise division; both produce the array\n",
        "# [[ 0.2         0.33333333]\n",
        "#  [ 0.42857143  0.5       ]]\n",
        "print(mlblr/ eip)\n",
        "print(np.divide(mlblr, eip))\n",
        "\n",
        "# Elementwise square root; produces the array\n",
        "# [[ 1.          1.41421356]\n",
        "#  [ 1.73205081  2.        ]]\n",
        "print(np.sqrt(mlblr))"
      ],
      "execution_count": 32,
      "outputs": [
        {
          "output_type": "stream",
          "text": [
            "[[ 6.  8.]\n",
            " [10. 12.]]\n",
            "[[ 6.  8.]\n",
            " [10. 12.]]\n",
            "[[-4. -4.]\n",
            " [-4. -4.]]\n",
            "[[-4. -4.]\n",
            " [-4. -4.]]\n",
            "[[ 5. 12.]\n",
            " [21. 32.]]\n",
            "[[ 5. 12.]\n",
            " [21. 32.]]\n",
            "[[0.2        0.33333333]\n",
            " [0.42857143 0.5       ]]\n",
            "[[0.2        0.33333333]\n",
            " [0.42857143 0.5       ]]\n",
            "[[1.         1.41421356]\n",
            " [1.73205081 2.        ]]\n"
          ],
          "name": "stdout"
        }
      ]
    },
    {
      "metadata": {
        "id": "AMKiYzORICh4",
        "colab_type": "text"
      },
      "cell_type": "markdown",
      "source": [
        "Note that unlike MATLAB, `*` is elementwise multiplication, not matrix\n",
        "multiplication. We instead use the `dot` function to compute inner\n",
        "products of vectors, to multiply a vector by a matrix, and to\n",
        "multiply matrices. `dot` is available both as a function in the numpy\n",
        "module and as an instance method of array objects:"
      ]
    },
    {
      "metadata": {
        "id": "_j1jyZdGICh6",
        "colab_type": "code",
        "colab": {
          "autoexec": {
            "startup": false,
            "wait_interval": 0
          },
          "base_uri": "https://localhost:8080/",
          "height": 168
        },
        "outputId": "6747df21-df7e-48c1-9c68-24a231106e3c",
        "executionInfo": {
          "status": "ok",
          "timestamp": 1525362223688,
          "user_tz": -330,
          "elapsed": 804,
          "user": {
            "displayName": "Shivam Gupta",
            "photoUrl": "//lh5.googleusercontent.com/-aJLlXYQRUVc/AAAAAAAAAAI/AAAAAAAAAZA/LOAJ4R6sYMw/s50-c-k-no/photo.jpg",
            "userId": "111922186520191061713"
          }
        }
      },
      "cell_type": "code",
      "source": [
        "import numpy as np\n",
        "\n",
        "mlblr = np.array([[1,2],[3,4]])\n",
        "eip = np.array([[5,6],[7,8]])\n",
        "\n",
        "eip_in = np.array([9,10])\n",
        "eip_out = np.array([11, 12])\n",
        "\n",
        "# Inner product of vectors; both produce 219\n",
        "print(eip_in.dot(eip_out))\n",
        "print(np.dot(eip_in, eip_out))\n",
        "\n",
        "# Matrix / vector product; both produce the rank 1 array [29 67]\n",
        "print(mlblr.dot(eip_in))\n",
        "print(np.dot(mlblr, eip_in))\n",
        "\n",
        "# Matrix / matrix product; both produce the rank 2 array\n",
        "# [[19 22]\n",
        "#  [43 50]]\n",
        "print(mlblr.dot(eip))\n",
        "print(np.dot(mlblr, eip))"
      ],
      "execution_count": 33,
      "outputs": [
        {
          "output_type": "stream",
          "text": [
            "219\n",
            "219\n",
            "[29 67]\n",
            "[29 67]\n",
            "[[19 22]\n",
            " [43 50]]\n",
            "[[19 22]\n",
            " [43 50]]\n"
          ],
          "name": "stdout"
        }
      ]
    },
    {
      "metadata": {
        "id": "9jV4XTlsICii",
        "colab_type": "text"
      },
      "cell_type": "markdown",
      "source": [
        "Numpy provides many useful functions for performing computations on\n",
        "arrays; one of the most useful is `sum`:"
      ]
    },
    {
      "metadata": {
        "id": "IzZUzhpUICii",
        "colab_type": "code",
        "colab": {
          "autoexec": {
            "startup": false,
            "wait_interval": 0
          },
          "base_uri": "https://localhost:8080/",
          "height": 74
        },
        "outputId": "ee10f5d9-af80-4bf7-bbb3-81f9bf470db6",
        "executionInfo": {
          "status": "ok",
          "timestamp": 1525362227664,
          "user_tz": -330,
          "elapsed": 964,
          "user": {
            "displayName": "Shivam Gupta",
            "photoUrl": "//lh5.googleusercontent.com/-aJLlXYQRUVc/AAAAAAAAAAI/AAAAAAAAAZA/LOAJ4R6sYMw/s50-c-k-no/photo.jpg",
            "userId": "111922186520191061713"
          }
        }
      },
      "cell_type": "code",
      "source": [
        "import numpy as np\n",
        "\n",
        "mlblr = np.array([[1,2],[3,4]])\n",
        "\n",
        "print(np.sum(mlblr))  # Compute sum of all elements; prints \"10\"\n",
        "print(np.sum(mlblr, axis=0))  # Compute sum of each column; prints \"[4 6]\"\n",
        "print(np.sum(mlblr, axis=1))  # Compute sum of each row; prints \"[3 7]\""
      ],
      "execution_count": 34,
      "outputs": [
        {
          "output_type": "stream",
          "text": [
            "10\n",
            "[4 6]\n",
            "[3 7]\n"
          ],
          "name": "stdout"
        }
      ]
    },
    {
      "metadata": {
        "id": "a0KUZCRlICio",
        "colab_type": "text"
      },
      "cell_type": "markdown",
      "source": [
        "You can find the full list of mathematical functions provided by numpy\n",
        "[in the documentation](http://docs.scipy.org/doc/numpy/reference/routines.math.html).\n",
        "\n",
        "Apart from computing mathematical functions using arrays, we frequently\n",
        "need to reshape or otherwise manipulate data in arrays. The simplest example\n",
        "of this type of operation is transposing a matrix; to transpose a matrix,\n",
        "simply use the `T` attribute of an array object:"
      ]
    },
    {
      "metadata": {
        "id": "7iI4bPPcICiq",
        "colab_type": "code",
        "colab": {
          "autoexec": {
            "startup": false,
            "wait_interval": 0
          },
          "base_uri": "https://localhost:8080/",
          "height": 130
        },
        "outputId": "ec86b45f-de56-4e23-c4d7-e5d36621395e",
        "executionInfo": {
          "status": "ok",
          "timestamp": 1525362231216,
          "user_tz": -330,
          "elapsed": 1104,
          "user": {
            "displayName": "Shivam Gupta",
            "photoUrl": "//lh5.googleusercontent.com/-aJLlXYQRUVc/AAAAAAAAAAI/AAAAAAAAAZA/LOAJ4R6sYMw/s50-c-k-no/photo.jpg",
            "userId": "111922186520191061713"
          }
        }
      },
      "cell_type": "code",
      "source": [
        "import numpy as np\n",
        "\n",
        "mlblr = np.array([[1,2], [3,4]])\n",
        "print(mlblr)    # Prints \"[[1 2]\n",
        "            #          [3 4]]\"\n",
        "print(mlblr.T)  # Prints \"[[1 3]\n",
        "            #          [2 4]]\"\n",
        "\n",
        "# Note that taking the transpose of a rank 1 array does nothing:\n",
        "eip = np.array([1,2,3])\n",
        "print(eip)    # Prints \"[1 2 3]\"\n",
        "print(eip.T)  # Prints \"[1 2 3]\""
      ],
      "execution_count": 35,
      "outputs": [
        {
          "output_type": "stream",
          "text": [
            "[[1 2]\n",
            " [3 4]]\n",
            "[[1 3]\n",
            " [2 4]]\n",
            "[1 2 3]\n",
            "[1 2 3]\n"
          ],
          "name": "stdout"
        }
      ]
    },
    {
      "metadata": {
        "id": "wglCR_d7ICiu",
        "colab_type": "text"
      },
      "cell_type": "markdown",
      "source": [
        "Numpy provides many more functions for manipulating arrays; you can see the full list\n",
        "[in the documentation](http://docs.scipy.org/doc/numpy/reference/routines.array-manipulation.html).\n",
        "\n",
        "\n",
        "<a name='numpy-broadcasting'></a>\n",
        "\n",
        "### Broadcasting\n",
        "Broadcasting is a powerful mechanism that allows numpy to work with arrays of different\n",
        "shapes when performing arithmetic operations. Frequently we have a smaller array and a\n",
        "larger array, and we want to use the smaller array multiple times to perform some operation\n",
        "on the larger array.\n",
        "\n",
        "For example, suppose that we want to add a constant vector to each\n",
        "row of a matrix. We could do it like this:"
      ]
    },
    {
      "metadata": {
        "id": "exn_2T1nICiw",
        "colab_type": "code",
        "colab": {
          "autoexec": {
            "startup": false,
            "wait_interval": 0
          },
          "base_uri": "https://localhost:8080/",
          "height": 92
        },
        "outputId": "3ea8911e-1096-44d8-e27b-e42f92985638",
        "executionInfo": {
          "status": "ok",
          "timestamp": 1525362234022,
          "user_tz": -330,
          "elapsed": 1064,
          "user": {
            "displayName": "Shivam Gupta",
            "photoUrl": "//lh5.googleusercontent.com/-aJLlXYQRUVc/AAAAAAAAAAI/AAAAAAAAAZA/LOAJ4R6sYMw/s50-c-k-no/photo.jpg",
            "userId": "111922186520191061713"
          }
        }
      },
      "cell_type": "code",
      "source": [
        "import numpy as np\n",
        "\n",
        "# We will add the vector v to each row of the matrix x,\n",
        "# storing the result in the matrix y\n",
        "mlblr = np.array([[1,2,3], [4,5,6], [7,8,9], [10, 11, 12]])\n",
        "eip = np.array([1, 0, 1])\n",
        "eip_in = np.empty_like(mlblr)   # Create an empty matrix with the same shape as x\n",
        "\n",
        "# Add the vector v to each row of the matrix x with an explicit loop\n",
        "for i in range(4):\n",
        "    eip_in[i, :] = mlblr[i, :] + eip\n",
        "\n",
        "# Now y is the following\n",
        "# [[ 2  2  4]\n",
        "#  [ 5  5  7]\n",
        "#  [ 8  8 10]\n",
        "#  [11 11 13]]\n",
        "print(eip_in)"
      ],
      "execution_count": 36,
      "outputs": [
        {
          "output_type": "stream",
          "text": [
            "[[ 2  2  4]\n",
            " [ 5  5  7]\n",
            " [ 8  8 10]\n",
            " [11 11 13]]\n"
          ],
          "name": "stdout"
        }
      ]
    },
    {
      "metadata": {
        "id": "dQ4RwoXfICi0",
        "colab_type": "text"
      },
      "cell_type": "markdown",
      "source": [
        "This works; however when the matrix `x` is very large, computing an explicit loop\n",
        "in Python could be slow. Note that adding the vector `v` to each row of the matrix\n",
        "`x` is equivalent to forming a matrix `vv` by stacking multiple copies of `v` vertically,\n",
        "then performing elementwise summation of `x` and `vv`. We could implement this\n",
        "approach like this:"
      ]
    },
    {
      "metadata": {
        "id": "OcMzKzMEICi4",
        "colab_type": "code",
        "colab": {
          "autoexec": {
            "startup": false,
            "wait_interval": 0
          },
          "base_uri": "https://localhost:8080/",
          "height": 168
        },
        "outputId": "ddc30edd-0be3-4da3-9250-a9cd81874b44",
        "executionInfo": {
          "status": "ok",
          "timestamp": 1525362236440,
          "user_tz": -330,
          "elapsed": 820,
          "user": {
            "displayName": "Shivam Gupta",
            "photoUrl": "//lh5.googleusercontent.com/-aJLlXYQRUVc/AAAAAAAAAAI/AAAAAAAAAZA/LOAJ4R6sYMw/s50-c-k-no/photo.jpg",
            "userId": "111922186520191061713"
          }
        }
      },
      "cell_type": "code",
      "source": [
        "import numpy as np\n",
        "\n",
        "# We will add the vector v to each row of the matrix x,\n",
        "# storing the result in the matrix y\n",
        "mlblr = np.array([[1,2,3], [4,5,6], [7,8,9], [10, 11, 12]])\n",
        "eip = np.array([1, 0, 1])\n",
        "eip_in = np.tile(eip, (4, 1))   # Stack 4 copies of v on top of each other\n",
        "print(eip_in)                 # Prints \"[[1 0 1]\n",
        "                          #          [1 0 1]\n",
        "                          #          [1 0 1]\n",
        "                          #          [1 0 1]]\"\n",
        "eip_out = mlblr + eip_in  # Add x and vv elementwise\n",
        "print(eip_out)  # Prints \"[[ 2  2  4\n",
        "          #          [ 5  5  7]\n",
        "          #          [ 8  8 10]\n",
        "          #          [11 11 13]]\""
      ],
      "execution_count": 37,
      "outputs": [
        {
          "output_type": "stream",
          "text": [
            "[[1 0 1]\n",
            " [1 0 1]\n",
            " [1 0 1]\n",
            " [1 0 1]]\n",
            "[[ 2  2  4]\n",
            " [ 5  5  7]\n",
            " [ 8  8 10]\n",
            " [11 11 13]]\n"
          ],
          "name": "stdout"
        }
      ]
    },
    {
      "metadata": {
        "id": "LtEPCZfcICjA",
        "colab_type": "text"
      },
      "cell_type": "markdown",
      "source": [
        "Numpy broadcasting allows us to perform this computation without actually\n",
        "creating multiple copies of `v`. Consider this version, using broadcasting:"
      ]
    },
    {
      "metadata": {
        "id": "CXW1425vICjC",
        "colab_type": "code",
        "colab": {
          "autoexec": {
            "startup": false,
            "wait_interval": 0
          },
          "base_uri": "https://localhost:8080/",
          "height": 92
        },
        "outputId": "89996b7c-5329-418b-90e6-1b36ddac1af4",
        "executionInfo": {
          "status": "ok",
          "timestamp": 1525362239208,
          "user_tz": -330,
          "elapsed": 942,
          "user": {
            "displayName": "Shivam Gupta",
            "photoUrl": "//lh5.googleusercontent.com/-aJLlXYQRUVc/AAAAAAAAAAI/AAAAAAAAAZA/LOAJ4R6sYMw/s50-c-k-no/photo.jpg",
            "userId": "111922186520191061713"
          }
        }
      },
      "cell_type": "code",
      "source": [
        "import numpy as np\n",
        "\n",
        "# We will add the vector v to each row of the matrix x,\n",
        "# storing the result in the matrix y\n",
        "mlblr = np.array([[1,2,3], [4,5,6], [7,8,9], [10, 11, 12]])\n",
        "eip = np.array([1, 0, 1])\n",
        "eip_in = mlblr + eip  # Add v to each row of x using broadcasting\n",
        "print(eip_in)  # Prints \"[[ 2  2  4]\n",
        "          #          [ 5  5  7]\n",
        "          #          [ 8  8 10]\n",
        "          #          [11 11 13]]\""
      ],
      "execution_count": 38,
      "outputs": [
        {
          "output_type": "stream",
          "text": [
            "[[ 2  2  4]\n",
            " [ 5  5  7]\n",
            " [ 8  8 10]\n",
            " [11 11 13]]\n"
          ],
          "name": "stdout"
        }
      ]
    },
    {
      "metadata": {
        "id": "0wPgELDiICjG",
        "colab_type": "text"
      },
      "cell_type": "markdown",
      "source": [
        "The line `y = x + v` works even though `x` has shape `(4, 3)` and `v` has shape\n",
        "`(3,)` due to broadcasting; this line works as if `v` actually had shape `(4, 3)`,\n",
        "where each row was a copy of `v`, and the sum was performed elementwise.\n",
        "\n",
        "Broadcasting two arrays together follows these rules:\n",
        "\n",
        "1. If the arrays do not have the same rank, prepend the shape of the lower rank array\n",
        "   with 1s until both shapes have the same length.\n",
        "2. The two arrays are said to be *compatible* in a dimension if they have the same\n",
        "   size in the dimension, or if one of the arrays has size 1 in that dimension.\n",
        "3. The arrays can be broadcast together if they are compatible in all dimensions.\n",
        "4. After broadcasting, each array behaves as if it had shape equal to the elementwise\n",
        "   maximum of shapes of the two input arrays.\n",
        "5. In any dimension where one array had size 1 and the other array had size greater than 1,\n",
        "   the first array behaves as if it were copied along that dimension\n",
        "\n",
        "If this explanation does not make sense, try reading the explanation\n",
        "[from the documentation](http://docs.scipy.org/doc/numpy/user/basics.broadcasting.html)\n",
        "or [this explanation](http://wiki.scipy.org/EricsBroadcastingDoc).\n",
        "\n",
        "Functions that support broadcasting are known as *universal functions*. You can find\n",
        "the list of all universal functions\n",
        "[in the documentation](http://docs.scipy.org/doc/numpy/reference/ufuncs.html#available-ufuncs).\n",
        "\n",
        "Here are some applications of broadcasting:"
      ]
    },
    {
      "metadata": {
        "id": "Yi2Ej8yQICjG",
        "colab_type": "code",
        "colab": {
          "autoexec": {
            "startup": false,
            "wait_interval": 0
          },
          "base_uri": "https://localhost:8080/",
          "height": 225
        },
        "outputId": "8b489232-3a2c-4bc9-98bf-130c14264253",
        "executionInfo": {
          "status": "ok",
          "timestamp": 1525362244090,
          "user_tz": -330,
          "elapsed": 1184,
          "user": {
            "displayName": "Shivam Gupta",
            "photoUrl": "//lh5.googleusercontent.com/-aJLlXYQRUVc/AAAAAAAAAAI/AAAAAAAAAZA/LOAJ4R6sYMw/s50-c-k-no/photo.jpg",
            "userId": "111922186520191061713"
          }
        }
      },
      "cell_type": "code",
      "source": [
        "import numpy as np\n",
        "\n",
        "# Compute outer product of vectors\n",
        "eip = np.array([1,2,3])  # v has shape (3,)\n",
        "eip_in = np.array([4,5])    # w has shape (2,)\n",
        "# To compute an outer product, we first reshape v to be a column\n",
        "# vector of shape (3, 1); we can then broadcast it against w to yield\n",
        "# an output of shape (3, 2), which is the outer product of v and w:\n",
        "# [[ 4  5]\n",
        "#  [ 8 10]\n",
        "#  [12 15]]\n",
        "print(np.reshape(eip, (3, 1)) * eip_in)\n",
        "\n",
        "# Add a vector to each row of a matrix\n",
        "mlblr = np.array([[1,2,3], [4,5,6]])\n",
        "# x has shape (2, 3) and v has shape (3,) so they broadcast to (2, 3),\n",
        "# giving the following matrix:\n",
        "# [[2 4 6]\n",
        "#  [5 7 9]]\n",
        "print(mlblr + eip)\n",
        "\n",
        "# Add a vector to each column of a matrix\n",
        "# x has shape (2, 3) and w has shape (2,).\n",
        "# If we transpose x then it has shape (3, 2) and can be broadcast\n",
        "# against w to yield a result of shape (3, 2); transposing this result\n",
        "# yields the final result of shape (2, 3) which is the matrix x with\n",
        "# the vector w added to each column. Gives the following matrix:\n",
        "# [[ 5  6  7]\n",
        "#  [ 9 10 11]]\n",
        "print((mlblr.T + eip_in).T)\n",
        "# Another solution is to reshape w to be a column vector of shape (2, 1);\n",
        "# we can then broadcast it directly against x to produce the same\n",
        "# output.\n",
        "print(mlblr + np.reshape(eip_in, (2, 1)))\n",
        "\n",
        "# Multiply a matrix by a constant:\n",
        "# x has shape (2, 3). Numpy treats scalars as arrays of shape ();\n",
        "# these can be broadcast together to shape (2, 3), producing the\n",
        "# following array:\n",
        "# [[ 2  4  6]\n",
        "#  [ 8 10 12]]\n",
        "print(mlblr * 2)"
      ],
      "execution_count": 39,
      "outputs": [
        {
          "output_type": "stream",
          "text": [
            "[[ 4  5]\n",
            " [ 8 10]\n",
            " [12 15]]\n",
            "[[2 4 6]\n",
            " [5 7 9]]\n",
            "[[ 5  6  7]\n",
            " [ 9 10 11]]\n",
            "[[ 5  6  7]\n",
            " [ 9 10 11]]\n",
            "[[ 2  4  6]\n",
            " [ 8 10 12]]\n"
          ],
          "name": "stdout"
        }
      ]
    },
    {
      "metadata": {
        "id": "AlTlvovEICjK",
        "colab_type": "text"
      },
      "cell_type": "markdown",
      "source": [
        "Broadcasting typically makes your code more concise and faster, so you\n",
        "should strive to use it where possible.\n",
        "\n",
        "### Numpy Documentation\n",
        "This brief overview has touched on many of the important things that you need to\n",
        "know about numpy, but is far from complete. Check out the\n",
        "[numpy reference](http://docs.scipy.org/doc/numpy/reference/)\n",
        "to find out much more about numpy.\n",
        "\n",
        "<a name='scipy'></a>\n",
        "\n",
        "## SciPy\n",
        "Numpy provides a high-performance multidimensional array and basic tools to\n",
        "compute with and manipulate these arrays.\n",
        "[SciPy](http://docs.scipy.org/doc/scipy/reference/)\n",
        "builds on this, and provides\n",
        "a large number of functions that operate on numpy arrays and are useful for\n",
        "different types of scientific and engineering applications.\n",
        "\n",
        "The best way to get familiar with SciPy is to\n",
        "[browse the documentation](http://docs.scipy.org/doc/scipy/reference/index.html).\n",
        "We will highlight some parts of SciPy that you might find useful for this class.\n",
        "\n",
        "<a name='scipy-image'></a>\n",
        "\n",
        "### Image operations\n",
        "SciPy provides some basic functions to work with images.\n",
        "For example, it has functions to read images from disk into numpy arrays,\n",
        "to write numpy arrays to disk as images, and to resize images.\n",
        "Here is a simple example that showcases these functions:"
      ]
    },
    {
      "metadata": {
        "id": "p_ymA3yfICjM",
        "colab_type": "code",
        "colab": {
          "autoexec": {
            "startup": false,
            "wait_interval": 0
          },
          "base_uri": "https://localhost:8080/",
          "height": 131
        },
        "outputId": "5507e654-af5c-46ff-966d-cc6abe0b1daa",
        "executionInfo": {
          "status": "ok",
          "timestamp": 1525362249390,
          "user_tz": -330,
          "elapsed": 946,
          "user": {
            "displayName": "Shivam Gupta",
            "photoUrl": "//lh5.googleusercontent.com/-aJLlXYQRUVc/AAAAAAAAAAI/AAAAAAAAAZA/LOAJ4R6sYMw/s50-c-k-no/photo.jpg",
            "userId": "111922186520191061713"
          }
        }
      },
      "cell_type": "code",
      "source": [
        "from scipy.misc import imread, imsave, imresize\n",
        "\n",
        "# Read an JPEG image into a numpy array\n",
        "mlblr = imread('/content/cat.jpg')\n",
        "print(mlblr.dtype, mlblr.shape)  # Prints \"uint8 (700, 1000, 3)\"\n",
        "\n",
        "# We can tint the image by scaling each of the color channels\n",
        "# by a different scalar constant. The image has shape (700, 1000, 3);\n",
        "# we multiply it by the array [1, 0.95, 0.9] of shape (3,);\n",
        "# numpy broadcasting means that this leaves the red channel unchanged,\n",
        "# and multiplies the green and blue channels by 0.95 and 0.9\n",
        "# respectively.\n",
        "eip = mlblr * [1, 0.95, 0.9]\n",
        "\n",
        "# Resize the tinted image to be 300 by 300 pixels.\n",
        "eip = imresize(eip, (300, 300))\n",
        "\n",
        "# Write the tinted image back to disk\n",
        "imsave('/content/cat_tinted.jpg', eip)"
      ],
      "execution_count": 40,
      "outputs": [
        {
          "output_type": "stream",
          "text": [
            "uint8 (700, 1000, 3)\n"
          ],
          "name": "stdout"
        },
        {
          "output_type": "stream",
          "text": [
            "/usr/local/lib/python3.6/dist-packages/scipy/misc/pilutil.py:482: FutureWarning: Conversion of the second argument of issubdtype from `int` to `np.signedinteger` is deprecated. In future, it will be treated as `np.int64 == np.dtype(int).type`.\n",
            "  if issubdtype(ts, int):\n",
            "/usr/local/lib/python3.6/dist-packages/scipy/misc/pilutil.py:485: FutureWarning: Conversion of the second argument of issubdtype from `float` to `np.floating` is deprecated. In future, it will be treated as `np.float64 == np.dtype(float).type`.\n",
            "  elif issubdtype(type(size), float):\n"
          ],
          "name": "stderr"
        }
      ]
    },
    {
      "metadata": {
        "id": "1lscq4GXICjg",
        "colab_type": "text"
      },
      "cell_type": "markdown",
      "source": [
        "<div class='fig figcenter fighighlight'>\n",
        "  <img src='/content/cat.jpg'>\n",
        "  <img src='/content/cat_tinted.jpg'>\n",
        "  <div class='figcaption'>\n",
        "    Left: The original image.\n",
        "    Right: The tinted and resized image.\n",
        "  </div>\n",
        "</div>\n",
        "\n",
        "<a name='scipy-matlab'></a>\n",
        "\n",
        "### MATLAB files\n",
        "The functions `scipy.io.loadmat` and `scipy.io.savemat` allow you to read and\n",
        "write MATLAB files. You can read about them\n",
        "[in the documentation](http://docs.scipy.org/doc/scipy/reference/io.html).\n",
        "\n",
        "<a name='scipy-dist'></a>\n",
        "\n",
        "### Distance between points\n",
        "SciPy defines some useful functions for computing distances between sets of points.\n",
        "\n",
        "The function `scipy.spatial.distance.pdist` computes the distance between all pairs\n",
        "of points in a given set:"
      ]
    },
    {
      "metadata": {
        "id": "IqNC9HwqICjg",
        "colab_type": "code",
        "colab": {
          "autoexec": {
            "startup": false,
            "wait_interval": 0
          },
          "base_uri": "https://localhost:8080/",
          "height": 130
        },
        "outputId": "7ba2363f-abda-4619-fcac-d6e069514d9e",
        "executionInfo": {
          "status": "ok",
          "timestamp": 1525362254728,
          "user_tz": -330,
          "elapsed": 990,
          "user": {
            "displayName": "Shivam Gupta",
            "photoUrl": "//lh5.googleusercontent.com/-aJLlXYQRUVc/AAAAAAAAAAI/AAAAAAAAAZA/LOAJ4R6sYMw/s50-c-k-no/photo.jpg",
            "userId": "111922186520191061713"
          }
        }
      },
      "cell_type": "code",
      "source": [
        "import numpy as np\n",
        "from scipy.spatial.distance import pdist, squareform\n",
        "\n",
        "# Create the following array where each row is a point in 2D space:\n",
        "# [[0 1]\n",
        "#  [1 0]\n",
        "#  [2 0]]\n",
        "mlblr = np.array([[0, 1], [1, 0], [2, 0]])\n",
        "print(mlblr)\n",
        "\n",
        "# Compute the Euclidean distance between all rows of x.\n",
        "# d[i, j] is the Euclidean distance between x[i, :] and x[j, :],\n",
        "# and d is the following array:\n",
        "# [[ 0.          1.41421356  2.23606798]\n",
        "#  [ 1.41421356  0.          1.        ]\n",
        "#  [ 2.23606798  1.          0.        ]]\n",
        "eip = squareform(pdist(mlblr, 'euclidean'))\n",
        "print(eip)"
      ],
      "execution_count": 41,
      "outputs": [
        {
          "output_type": "stream",
          "text": [
            "[[0 1]\n",
            " [1 0]\n",
            " [2 0]]\n",
            "[[0.         1.41421356 2.23606798]\n",
            " [1.41421356 0.         1.        ]\n",
            " [2.23606798 1.         0.        ]]\n"
          ],
          "name": "stdout"
        }
      ]
    },
    {
      "metadata": {
        "id": "S69ITFd7ICkS",
        "colab_type": "text"
      },
      "cell_type": "markdown",
      "source": [
        "You can read all the details about this function\n",
        "[in the documentation](http://docs.scipy.org/doc/scipy/reference/generated/scipy.spatial.distance.pdist.html).\n",
        "\n",
        "A similar function (`scipy.spatial.distance.cdist`) computes the distance between all pairs\n",
        "across two sets of points; you can read about it\n",
        "[in the documentation](http://docs.scipy.org/doc/scipy/reference/generated/scipy.spatial.distance.cdist.html).\n",
        "\n",
        "<a name='matplotlib'></a>\n",
        "\n",
        "## Matplotlib\n",
        "[Matplotlib](http://matplotlib.org/) is a plotting library.\n",
        "In this section give a brief introduction to the `matplotlib.pyplot` module,\n",
        "which provides a plotting system similar to that of MATLAB.\n",
        "\n",
        "<a name='matplotlib-plot'></a>\n",
        "\n",
        "### Plotting\n",
        "The most important function in matplotlib is `plot`,\n",
        "which allows you to plot 2D data. Here is a simple example:"
      ]
    },
    {
      "metadata": {
        "id": "yjnGlfk9ICkU",
        "colab_type": "code",
        "colab": {
          "autoexec": {
            "startup": false,
            "wait_interval": 0
          },
          "base_uri": "https://localhost:8080/",
          "height": 347
        },
        "outputId": "12bf0ec0-0460-4693-9c3a-c0d58d4a91b9",
        "executionInfo": {
          "status": "ok",
          "timestamp": 1525362257792,
          "user_tz": -330,
          "elapsed": 948,
          "user": {
            "displayName": "Shivam Gupta",
            "photoUrl": "//lh5.googleusercontent.com/-aJLlXYQRUVc/AAAAAAAAAAI/AAAAAAAAAZA/LOAJ4R6sYMw/s50-c-k-no/photo.jpg",
            "userId": "111922186520191061713"
          }
        }
      },
      "cell_type": "code",
      "source": [
        "import numpy as np\n",
        "import matplotlib.pyplot as plt\n",
        "\n",
        "# Compute the x and y coordinates for points on a sine curve\n",
        "mlblr = np.arange(0, 3 * np.pi, 0.1)\n",
        "eip = np.sin(mlblr)\n",
        "\n",
        "# Plot the points using matplotlib\n",
        "plt.plot(mlblr, eip)\n",
        "plt.show()  # You must call plt.show() to make graphics appear."
      ],
      "execution_count": 42,
      "outputs": [
        {
          "output_type": "display_data",
          "data": {
            "image/png": "[encoded data removed]",
            "text/plain": [
              "<matplotlib.figure.Figure at 0x7fe614b04ba8>"
            ]
          },
          "metadata": {
            "tags": []
          }
        }
      ]
    },
    {
      "metadata": {
        "id": "VzfKSnJFICkY",
        "colab_type": "text"
      },
      "cell_type": "markdown",
      "source": [
        "Running this code produces the following plot:\n",
        "\n",
        "<div class='fig figcenter fighighlight'>\n",
        "  <img src='assets/sine.png'>\n",
        "</div>\n",
        "\n",
        "With just a little bit of extra work we can easily plot multiple lines\n",
        "at once, and add a title, legend, and axis labels:"
      ]
    },
    {
      "metadata": {
        "id": "IRPUr29BICkY",
        "colab_type": "code",
        "colab": {
          "autoexec": {
            "startup": false,
            "wait_interval": 0
          },
          "base_uri": "https://localhost:8080/",
          "height": 376
        },
        "outputId": "ec850997-566b-4f4f-925c-2a5c183f77df",
        "executionInfo": {
          "status": "ok",
          "timestamp": 1525362260808,
          "user_tz": -330,
          "elapsed": 1136,
          "user": {
            "displayName": "Shivam Gupta",
            "photoUrl": "//lh5.googleusercontent.com/-aJLlXYQRUVc/AAAAAAAAAAI/AAAAAAAAAZA/LOAJ4R6sYMw/s50-c-k-no/photo.jpg",
            "userId": "111922186520191061713"
          }
        }
      },
      "cell_type": "code",
      "source": [
        "import numpy as np\n",
        "import matplotlib.pyplot as plt\n",
        "\n",
        "# Compute the x and y coordinates for points on sine and cosine curves\n",
        "mlblr = np.arange(0, 3 * np.pi, 0.1)\n",
        "eip_in = np.sin(mlblr)\n",
        "eip_out = np.cos(mlblr)\n",
        "\n",
        "# Plot the points using matplotlib\n",
        "plt.plot(mlblr, eip_in)\n",
        "plt.plot(mlblr, eip_out)\n",
        "plt.xlabel('x axis label')\n",
        "plt.ylabel('y axis label')\n",
        "plt.title('Sine and Cosine')\n",
        "plt.legend(['Sine', 'Cosine'])\n",
        "plt.show()"
      ],
      "execution_count": 43,
      "outputs": [
        {
          "output_type": "display_data",
          "data": {
            "image/png": "[encoded data removed]",
            "text/plain": [
              "<matplotlib.figure.Figure at 0x7fe61216e828>"
            ]
          },
          "metadata": {
            "tags": []
          }
        }
      ]
    },
    {
      "metadata": {
        "id": "L-qZzW1RICkc",
        "colab_type": "text"
      },
      "cell_type": "markdown",
      "source": [
        "<div class='fig figcenter fighighlight'>\n",
        "  <img src='assets/sine_cosine.png'>\n",
        "</div>\n",
        "\n",
        "You can read much more about the `plot` function\n",
        "[in the documentation](http://matplotlib.org/api/pyplot_api.html#matplotlib.pyplot.plot).\n",
        "\n",
        "<a name='matplotlib-subplots'></a>\n",
        "\n",
        "### Subplots\n",
        "You can plot different things in the same figure using the `subplot` function.\n",
        "Here is an example:"
      ]
    },
    {
      "metadata": {
        "id": "GYEXfa36ICkc",
        "colab_type": "code",
        "colab": {
          "autoexec": {
            "startup": false,
            "wait_interval": 0
          },
          "base_uri": "https://localhost:8080/",
          "height": 362
        },
        "outputId": "4207c79e-17fd-42a6-9e21-2fad4b5efff5",
        "executionInfo": {
          "status": "ok",
          "timestamp": 1525362264152,
          "user_tz": -330,
          "elapsed": 1220,
          "user": {
            "displayName": "Shivam Gupta",
            "photoUrl": "//lh5.googleusercontent.com/-aJLlXYQRUVc/AAAAAAAAAAI/AAAAAAAAAZA/LOAJ4R6sYMw/s50-c-k-no/photo.jpg",
            "userId": "111922186520191061713"
          }
        }
      },
      "cell_type": "code",
      "source": [
        "import numpy as np\n",
        "import matplotlib.pyplot as plt\n",
        "\n",
        "# Compute the x and y coordinates for points on sine and cosine curves\n",
        "mlblr = np.arange(0, 3 * np.pi, 0.1)\n",
        "eip_in = np.sin(mlblr)\n",
        "eip_out = np.cos(mlblr)\n",
        "\n",
        "# Set up a subplot grid that has height 2 and width 1,\n",
        "# and set the first such subplot as active.\n",
        "plt.subplot(2, 1, 1)\n",
        "\n",
        "# Make the first plot\n",
        "plt.plot(mlblr, eip_in)\n",
        "plt.title('Sine')\n",
        "\n",
        "# Set the second subplot as active, and make the second plot.\n",
        "plt.subplot(2, 1, 2)\n",
        "plt.plot(mlblr, eip_out)\n",
        "plt.title('Cosine')\n",
        "\n",
        "# Show the figure.\n",
        "plt.show()"
      ],
      "execution_count": 44,
      "outputs": [
        {
          "output_type": "display_data",
          "data": {
            "image/png": "[encoded data removed]",
            "text/plain": [
              "<matplotlib.figure.Figure at 0x7fe6120dee80>"
            ]
          },
          "metadata": {
            "tags": []
          }
        }
      ]
    },
    {
      "metadata": {
        "id": "J-qai6x6ICkg",
        "colab_type": "text"
      },
      "cell_type": "markdown",
      "source": [
        "<div class='fig figcenter fighighlight'>\n",
        "  <img src='assets/sine_cosine_subplot.png'>\n",
        "</div>\n",
        "\n",
        "You can read much more about the `subplot` function\n",
        "[in the documentation](http://matplotlib.org/api/pyplot_api.html#matplotlib.pyplot.subplot).\n",
        "\n",
        "<a name='matplotlib-images'></a>\n",
        "\n",
        "### Images\n",
        "You can use the `imshow` function to show images. Here is an example:"
      ]
    },
    {
      "metadata": {
        "id": "x2CrutMxICkg",
        "colab_type": "code",
        "colab": {
          "autoexec": {
            "startup": false,
            "wait_interval": 0
          },
          "base_uri": "https://localhost:8080/",
          "height": 194
        },
        "outputId": "f96c3fa0-91dc-4b52-cb03-5830f3f76244",
        "executionInfo": {
          "status": "ok",
          "timestamp": 1525362267544,
          "user_tz": -330,
          "elapsed": 1412,
          "user": {
            "displayName": "Shivam Gupta",
            "photoUrl": "//lh5.googleusercontent.com/-aJLlXYQRUVc/AAAAAAAAAAI/AAAAAAAAAZA/LOAJ4R6sYMw/s50-c-k-no/photo.jpg",
            "userId": "111922186520191061713"
          }
        }
      },
      "cell_type": "code",
      "source": [
        "import numpy as np\n",
        "from scipy.misc import imread, imresize\n",
        "import matplotlib.pyplot as plt\n",
        "\n",
        "mlblr = imread('/content/cat.jpg')\n",
        "eip = mlblr * [1, 0.95, 0.9]\n",
        "\n",
        "# Show the original image\n",
        "plt.subplot(1, 2, 1)\n",
        "plt.imshow(mlblr)\n",
        "\n",
        "# Show the tinted image\n",
        "plt.subplot(1, 2, 2)\n",
        "\n",
        "# A slight gotcha with imshow is that it might give strange results\n",
        "# if presented with data that is not uint8. To work around this, we\n",
        "# explicitly cast the image to uint8 before displaying it.\n",
        "plt.imshow(np.uint8(eip))\n",
        "plt.show()"
      ],
      "execution_count": 45,
      "outputs": [
        {
          "output_type": "display_data",
          "data": {
            "image/png": "[encoded data removed]",
            "text/plain": [
              "<matplotlib.figure.Figure at 0x7fe614a625c0>"
            ]
          },
          "metadata": {
            "tags": []
          }
        }
      ]
    }
  ]
}